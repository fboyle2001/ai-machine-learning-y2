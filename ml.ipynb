{
 "cells": [
  {
   "cell_type": "markdown",
   "id": "chicken-affiliate",
   "metadata": {},
   "source": [
    "# Machine Learning"
   ]
  },
  {
   "cell_type": "markdown",
   "id": "corresponding-quantity",
   "metadata": {},
   "source": [
    "## Data Cleaning"
   ]
  },
  {
   "cell_type": "markdown",
   "id": "auburn-booth",
   "metadata": {},
   "source": [
    "I begin by loading the .csv file into pandas. Pandas is most suitable for this because of the size of the file. low_memory=False prevents Pandas providing a warning about the mixed types of the data. 'df' is the standard variable name choice for a data frame."
   ]
  },
  {
   "cell_type": "code",
   "execution_count": 1,
   "id": "decent-appearance",
   "metadata": {},
   "outputs": [],
   "source": [
    "%matplotlib inline\n",
    "import pandas as pd\n",
    "df = pd.read_csv(\"./latestdata/latestdata.csv\", low_memory=False)"
   ]
  },
  {
   "cell_type": "markdown",
   "id": "knowing-miniature",
   "metadata": {},
   "source": [
    "Once it has loaded, I look at the head of the .csv to get a brief overview."
   ]
  },
  {
   "cell_type": "code",
   "execution_count": 2,
   "id": "unlikely-rating",
   "metadata": {},
   "outputs": [
    {
     "data": {
      "text/html": [
       "<div>\n",
       "<style scoped>\n",
       "    .dataframe tbody tr th:only-of-type {\n",
       "        vertical-align: middle;\n",
       "    }\n",
       "\n",
       "    .dataframe tbody tr th {\n",
       "        vertical-align: top;\n",
       "    }\n",
       "\n",
       "    .dataframe thead th {\n",
       "        text-align: right;\n",
       "    }\n",
       "</style>\n",
       "<table border=\"1\" class=\"dataframe\">\n",
       "  <thead>\n",
       "    <tr style=\"text-align: right;\">\n",
       "      <th></th>\n",
       "      <th>ID</th>\n",
       "      <th>age</th>\n",
       "      <th>sex</th>\n",
       "      <th>city</th>\n",
       "      <th>province</th>\n",
       "      <th>country</th>\n",
       "      <th>latitude</th>\n",
       "      <th>longitude</th>\n",
       "      <th>geo_resolution</th>\n",
       "      <th>date_onset_symptoms</th>\n",
       "      <th>...</th>\n",
       "      <th>date_death_or_discharge</th>\n",
       "      <th>notes_for_discussion</th>\n",
       "      <th>location</th>\n",
       "      <th>admin3</th>\n",
       "      <th>admin2</th>\n",
       "      <th>admin1</th>\n",
       "      <th>country_new</th>\n",
       "      <th>admin_id</th>\n",
       "      <th>data_moderator_initials</th>\n",
       "      <th>travel_history_binary</th>\n",
       "    </tr>\n",
       "  </thead>\n",
       "  <tbody>\n",
       "    <tr>\n",
       "      <th>0</th>\n",
       "      <td>000-1-1</td>\n",
       "      <td>NaN</td>\n",
       "      <td>male</td>\n",
       "      <td>Shek Lei</td>\n",
       "      <td>Hong Kong</td>\n",
       "      <td>China</td>\n",
       "      <td>22.365019</td>\n",
       "      <td>114.133808</td>\n",
       "      <td>point</td>\n",
       "      <td>NaN</td>\n",
       "      <td>...</td>\n",
       "      <td>NaN</td>\n",
       "      <td>NaN</td>\n",
       "      <td>Shek Lei</td>\n",
       "      <td>NaN</td>\n",
       "      <td>NaN</td>\n",
       "      <td>Hong Kong</td>\n",
       "      <td>China</td>\n",
       "      <td>8029.0</td>\n",
       "      <td>NaN</td>\n",
       "      <td>NaN</td>\n",
       "    </tr>\n",
       "    <tr>\n",
       "      <th>1</th>\n",
       "      <td>000-1-10</td>\n",
       "      <td>78</td>\n",
       "      <td>male</td>\n",
       "      <td>Vo Euganeo</td>\n",
       "      <td>Veneto</td>\n",
       "      <td>Italy</td>\n",
       "      <td>45.297748</td>\n",
       "      <td>11.658382</td>\n",
       "      <td>point</td>\n",
       "      <td>NaN</td>\n",
       "      <td>...</td>\n",
       "      <td>22.02.2020</td>\n",
       "      <td>NaN</td>\n",
       "      <td>Vo' Euganeo</td>\n",
       "      <td>NaN</td>\n",
       "      <td>NaN</td>\n",
       "      <td>Veneto</td>\n",
       "      <td>Italy</td>\n",
       "      <td>8954.0</td>\n",
       "      <td>NaN</td>\n",
       "      <td>NaN</td>\n",
       "    </tr>\n",
       "    <tr>\n",
       "      <th>2</th>\n",
       "      <td>000-1-100</td>\n",
       "      <td>61</td>\n",
       "      <td>female</td>\n",
       "      <td>NaN</td>\n",
       "      <td>NaN</td>\n",
       "      <td>Singapore</td>\n",
       "      <td>1.353460</td>\n",
       "      <td>103.815100</td>\n",
       "      <td>admin0</td>\n",
       "      <td>NaN</td>\n",
       "      <td>...</td>\n",
       "      <td>17.02.2020</td>\n",
       "      <td>NaN</td>\n",
       "      <td>NaN</td>\n",
       "      <td>NaN</td>\n",
       "      <td>NaN</td>\n",
       "      <td>NaN</td>\n",
       "      <td>Singapore</td>\n",
       "      <td>200.0</td>\n",
       "      <td>NaN</td>\n",
       "      <td>NaN</td>\n",
       "    </tr>\n",
       "    <tr>\n",
       "      <th>3</th>\n",
       "      <td>000-1-1000</td>\n",
       "      <td>NaN</td>\n",
       "      <td>NaN</td>\n",
       "      <td>Zhengzhou City</td>\n",
       "      <td>Henan</td>\n",
       "      <td>China</td>\n",
       "      <td>34.629310</td>\n",
       "      <td>113.468000</td>\n",
       "      <td>admin2</td>\n",
       "      <td>NaN</td>\n",
       "      <td>...</td>\n",
       "      <td>NaN</td>\n",
       "      <td>NaN</td>\n",
       "      <td>NaN</td>\n",
       "      <td>NaN</td>\n",
       "      <td>Zhengzhou City</td>\n",
       "      <td>Henan</td>\n",
       "      <td>China</td>\n",
       "      <td>10091.0</td>\n",
       "      <td>NaN</td>\n",
       "      <td>NaN</td>\n",
       "    </tr>\n",
       "    <tr>\n",
       "      <th>4</th>\n",
       "      <td>000-1-10000</td>\n",
       "      <td>NaN</td>\n",
       "      <td>NaN</td>\n",
       "      <td>Pingxiang City</td>\n",
       "      <td>Jiangxi</td>\n",
       "      <td>China</td>\n",
       "      <td>27.513560</td>\n",
       "      <td>113.902900</td>\n",
       "      <td>admin2</td>\n",
       "      <td>NaN</td>\n",
       "      <td>...</td>\n",
       "      <td>NaN</td>\n",
       "      <td>NaN</td>\n",
       "      <td>NaN</td>\n",
       "      <td>NaN</td>\n",
       "      <td>Pingxiang City</td>\n",
       "      <td>Jiangxi</td>\n",
       "      <td>China</td>\n",
       "      <td>7060.0</td>\n",
       "      <td>NaN</td>\n",
       "      <td>NaN</td>\n",
       "    </tr>\n",
       "  </tbody>\n",
       "</table>\n",
       "<p>5 rows × 33 columns</p>\n",
       "</div>"
      ],
      "text/plain": [
       "            ID  age     sex            city   province    country   latitude  \\\n",
       "0      000-1-1  NaN    male        Shek Lei  Hong Kong      China  22.365019   \n",
       "1     000-1-10   78    male      Vo Euganeo     Veneto      Italy  45.297748   \n",
       "2    000-1-100   61  female             NaN        NaN  Singapore   1.353460   \n",
       "3   000-1-1000  NaN     NaN  Zhengzhou City      Henan      China  34.629310   \n",
       "4  000-1-10000  NaN     NaN  Pingxiang City    Jiangxi      China  27.513560   \n",
       "\n",
       "    longitude geo_resolution date_onset_symptoms  ... date_death_or_discharge  \\\n",
       "0  114.133808          point                 NaN  ...                     NaN   \n",
       "1   11.658382          point                 NaN  ...              22.02.2020   \n",
       "2  103.815100         admin0                 NaN  ...              17.02.2020   \n",
       "3  113.468000         admin2                 NaN  ...                     NaN   \n",
       "4  113.902900         admin2                 NaN  ...                     NaN   \n",
       "\n",
       "  notes_for_discussion     location admin3          admin2     admin1  \\\n",
       "0                  NaN     Shek Lei    NaN             NaN  Hong Kong   \n",
       "1                  NaN  Vo' Euganeo    NaN             NaN     Veneto   \n",
       "2                  NaN          NaN    NaN             NaN        NaN   \n",
       "3                  NaN          NaN    NaN  Zhengzhou City      Henan   \n",
       "4                  NaN          NaN    NaN  Pingxiang City    Jiangxi   \n",
       "\n",
       "  country_new admin_id  data_moderator_initials travel_history_binary  \n",
       "0       China   8029.0                      NaN                   NaN  \n",
       "1       Italy   8954.0                      NaN                   NaN  \n",
       "2   Singapore    200.0                      NaN                   NaN  \n",
       "3       China  10091.0                      NaN                   NaN  \n",
       "4       China   7060.0                      NaN                   NaN  \n",
       "\n",
       "[5 rows x 33 columns]"
      ]
     },
     "execution_count": 2,
     "metadata": {},
     "output_type": "execute_result"
    }
   ],
   "source": [
    "df.head()"
   ]
  },
  {
   "cell_type": "markdown",
   "id": "federal-comparative",
   "metadata": {},
   "source": [
    "Then I look at the structure of the columns so we can begin analysis of the data."
   ]
  },
  {
   "cell_type": "code",
   "execution_count": 3,
   "id": "mobile-country",
   "metadata": {},
   "outputs": [
    {
     "name": "stdout",
     "output_type": "stream",
     "text": [
      "<class 'pandas.core.frame.DataFrame'>\n",
      "RangeIndex: 2676311 entries, 0 to 2676310\n",
      "Data columns (total 33 columns):\n",
      " #   Column                    Dtype  \n",
      "---  ------                    -----  \n",
      " 0   ID                        object \n",
      " 1   age                       object \n",
      " 2   sex                       object \n",
      " 3   city                      object \n",
      " 4   province                  object \n",
      " 5   country                   object \n",
      " 6   latitude                  float64\n",
      " 7   longitude                 float64\n",
      " 8   geo_resolution            object \n",
      " 9   date_onset_symptoms       object \n",
      " 10  date_admission_hospital   object \n",
      " 11  date_confirmation         object \n",
      " 12  symptoms                  object \n",
      " 13  lives_in_Wuhan            object \n",
      " 14  travel_history_dates      object \n",
      " 15  travel_history_location   object \n",
      " 16  reported_market_exposure  object \n",
      " 17  additional_information    object \n",
      " 18  chronic_disease_binary    bool   \n",
      " 19  chronic_disease           object \n",
      " 20  source                    object \n",
      " 21  sequence_available        object \n",
      " 22  outcome                   object \n",
      " 23  date_death_or_discharge   object \n",
      " 24  notes_for_discussion      object \n",
      " 25  location                  object \n",
      " 26  admin3                    object \n",
      " 27  admin2                    object \n",
      " 28  admin1                    object \n",
      " 29  country_new               object \n",
      " 30  admin_id                  float64\n",
      " 31  data_moderator_initials   object \n",
      " 32  travel_history_binary     object \n",
      "dtypes: bool(1), float64(3), object(29)\n",
      "memory usage: 655.9+ MB\n"
     ]
    }
   ],
   "source": [
    "df.info()"
   ]
  },
  {
   "cell_type": "markdown",
   "id": "solved-highland",
   "metadata": {},
   "source": [
    "There is a lot of data to begin processing. I need to analyse the columns further before I can do any meaningful analysis since there is so much data and the data type is currently very generic as 'object'. "
   ]
  },
  {
   "cell_type": "code",
   "execution_count": 4,
   "id": "naughty-portrait",
   "metadata": {},
   "outputs": [
    {
     "data": {
      "text/plain": [
       "ID                                0\n",
       "age                         2098293\n",
       "sex                         2096154\n",
       "city                         977681\n",
       "province                     452664\n",
       "country                         115\n",
       "latitude                         61\n",
       "longitude                        61\n",
       "geo_resolution                   61\n",
       "date_onset_symptoms         2414712\n",
       "date_admission_hospital     2560100\n",
       "date_confirmation            108489\n",
       "symptoms                    2674259\n",
       "lives_in_Wuhan              2671973\n",
       "travel_history_dates        2673700\n",
       "travel_history_location     2667089\n",
       "reported_market_exposure    2675242\n",
       "additional_information      2630456\n",
       "chronic_disease_binary            0\n",
       "chronic_disease             2676096\n",
       "source                       566964\n",
       "sequence_available          2676299\n",
       "outcome                     2368929\n",
       "date_death_or_discharge     2673163\n",
       "notes_for_discussion        2675671\n",
       "location                    2662935\n",
       "admin3                      2595877\n",
       "admin2                      1850257\n",
       "admin1                      1418753\n",
       "country_new                   30553\n",
       "admin_id                         61\n",
       "data_moderator_initials      933328\n",
       "travel_history_binary         65579\n",
       "dtype: int64"
      ]
     },
     "execution_count": 4,
     "metadata": {},
     "output_type": "execute_result"
    }
   ],
   "source": [
    "df.isna().sum()"
   ]
  },
  {
   "cell_type": "markdown",
   "id": "blessed-manner",
   "metadata": {},
   "source": [
    "I first want to look at some generic statistics about the features to begin thinking about the best way to go about cleaning it. Here I plot:\n",
    "- all of the countries that make up at least 1% of the records (if this condition is not imposed then the bar chart is unreadable)"
   ]
  },
  {
   "cell_type": "code",
   "execution_count": 5,
   "id": "familiar-surprise",
   "metadata": {},
   "outputs": [
    {
     "data": {
      "image/png": "[encoded data removed]",
      "text/plain": [
       "<Figure size 720x720 with 4 Axes>"
      ]
     },
     "metadata": {
      "needs_background": "light"
     },
     "output_type": "display_data"
    }
   ],
   "source": [
    "import matplotlib as mpl\n",
    "import matplotlib.pyplot as plt\n",
    "\n",
    "fig, axs = plt.subplots(2, 2, figsize=(10, 10))\n",
    "\n",
    "filtered_countries = df[df[\"country\"].map(df[\"country\"].value_counts(normalize=True, dropna=False)) > 0.01][\"country\"]\n",
    "filtered_countries.str.lower().value_counts(normalize=True, dropna=False).plot(ax=axs[0][0], kind=\"bar\")\n",
    "\n",
    "df[\"chronic_disease_binary\"].value_counts(normalize=True, dropna=False).plot(ax=axs[0][1], kind=\"pie\")\n",
    "\n",
    "plt.show()"
   ]
  },
  {
   "cell_type": "markdown",
   "id": "korean-range",
   "metadata": {},
   "source": [
    "Since my question is related to predicting the outcome for a specific person I need that the outcome is not N/A. This will drastically reduce the number of records however."
   ]
  },
  {
   "cell_type": "code",
   "execution_count": 6,
   "id": "conditional-happiness",
   "metadata": {},
   "outputs": [],
   "source": [
    "df = df[df[\"outcome\"].notna()]\n",
    "df.to_csv(\"with_outcome.csv\", index=False)"
   ]
  },
  {
   "cell_type": "markdown",
   "id": "young-bidding",
   "metadata": {},
   "source": [
    "This has now removed all of the rows without an outcome."
   ]
  },
  {
   "cell_type": "code",
   "execution_count": 7,
   "id": "facial-cancellation",
   "metadata": {},
   "outputs": [
    {
     "name": "stdout",
     "output_type": "stream",
     "text": [
      "<class 'pandas.core.frame.DataFrame'>\n",
      "Int64Index: 307382 entries, 0 to 673607\n",
      "Data columns (total 33 columns):\n",
      " #   Column                    Non-Null Count   Dtype  \n",
      "---  ------                    --------------   -----  \n",
      " 0   ID                        307382 non-null  object \n",
      " 1   age                       34435 non-null   object \n",
      " 2   sex                       38115 non-null   object \n",
      " 3   city                      263094 non-null  object \n",
      " 4   province                  306481 non-null  object \n",
      " 5   country                   307380 non-null  object \n",
      " 6   latitude                  307382 non-null  float64\n",
      " 7   longitude                 307382 non-null  float64\n",
      " 8   geo_resolution            307382 non-null  object \n",
      " 9   date_onset_symptoms       3543 non-null    object \n",
      " 10  date_admission_hospital   301 non-null     object \n",
      " 11  date_confirmation         307308 non-null  object \n",
      " 12  symptoms                  476 non-null     object \n",
      " 13  lives_in_Wuhan            174 non-null     object \n",
      " 14  travel_history_dates      315 non-null     object \n",
      " 15  travel_history_location   968 non-null     object \n",
      " 16  reported_market_exposure  16 non-null      object \n",
      " 17  additional_information    18597 non-null   object \n",
      " 18  chronic_disease_binary    307382 non-null  bool   \n",
      " 19  chronic_disease           125 non-null     object \n",
      " 20  source                    279695 non-null  object \n",
      " 21  sequence_available        4 non-null       object \n",
      " 22  outcome                   307382 non-null  object \n",
      " 23  date_death_or_discharge   1194 non-null    object \n",
      " 24  notes_for_discussion      151 non-null     object \n",
      " 25  location                  6570 non-null    object \n",
      " 26  admin3                    23 non-null      object \n",
      " 27  admin2                    509 non-null     object \n",
      " 28  admin1                    37823 non-null   object \n",
      " 29  country_new               303856 non-null  object \n",
      " 30  admin_id                  307382 non-null  float64\n",
      " 31  data_moderator_initials   301137 non-null  object \n",
      " 32  travel_history_binary     307057 non-null  object \n",
      "dtypes: bool(1), float64(3), object(29)\n",
      "memory usage: 77.7+ MB\n"
     ]
    }
   ],
   "source": [
    "df.info()"
   ]
  },
  {
   "cell_type": "markdown",
   "id": "labeled-allowance",
   "metadata": {},
   "source": [
    "This has drastically reduced the dataset size from ~2.6m to ~307k records. Of course this is not the most desirable outcome but I cannot impute the outcome data as it will skew any models drastically. One advantage of this is that I will have less records to manage though so the models should train faster which will be useful for experimenting."
   ]
  },
  {
   "cell_type": "markdown",
   "id": "controlling-validation",
   "metadata": {},
   "source": [
    "Now I look at the summary of the na data points:"
   ]
  },
  {
   "cell_type": "code",
   "execution_count": 8,
   "id": "atmospheric-perspective",
   "metadata": {},
   "outputs": [
    {
     "data": {
      "text/plain": [
       "ID                               0\n",
       "age                         272947\n",
       "sex                         269267\n",
       "city                         44288\n",
       "province                       901\n",
       "country                          2\n",
       "latitude                         0\n",
       "longitude                        0\n",
       "geo_resolution                   0\n",
       "date_onset_symptoms         303839\n",
       "date_admission_hospital     307081\n",
       "date_confirmation               74\n",
       "symptoms                    306906\n",
       "lives_in_Wuhan              307208\n",
       "travel_history_dates        307067\n",
       "travel_history_location     306414\n",
       "reported_market_exposure    307366\n",
       "additional_information      288785\n",
       "chronic_disease_binary           0\n",
       "chronic_disease             307257\n",
       "source                       27687\n",
       "sequence_available          307378\n",
       "outcome                          0\n",
       "date_death_or_discharge     306188\n",
       "notes_for_discussion        307231\n",
       "location                    300812\n",
       "admin3                      307359\n",
       "admin2                      306873\n",
       "admin1                      269559\n",
       "country_new                   3526\n",
       "admin_id                         0\n",
       "data_moderator_initials       6245\n",
       "travel_history_binary          325\n",
       "dtype: int64"
      ]
     },
     "execution_count": 8,
     "metadata": {},
     "output_type": "execute_result"
    }
   ],
   "source": [
    "df.isna().sum()"
   ]
  },
  {
   "cell_type": "markdown",
   "id": "completed-sampling",
   "metadata": {},
   "source": [
    "There is quite a significant amount of data missing. Some of the columns will essentially be unrecoverable because of the proportion of missing data. These columns that I have identified immediately are \"date_onset_symptoms\", \"date_admission_hospital\", \"symptoms\", \"lives_in_Wuhan\", \"reported_market_exposure\", \"sequence_available\", \"date_death_or_discharge\", \"notes_for_discussion\", \"admin3\", \"admin2\" as there is simply too much data missing. So I will drop these columns from the dataset."
   ]
  },
  {
   "cell_type": "code",
   "execution_count": 9,
   "id": "cutting-congo",
   "metadata": {},
   "outputs": [
    {
     "name": "stdout",
     "output_type": "stream",
     "text": [
      "<class 'pandas.core.frame.DataFrame'>\n",
      "Int64Index: 307382 entries, 0 to 673607\n",
      "Data columns (total 23 columns):\n",
      " #   Column                   Non-Null Count   Dtype  \n",
      "---  ------                   --------------   -----  \n",
      " 0   ID                       307382 non-null  object \n",
      " 1   age                      34435 non-null   object \n",
      " 2   sex                      38115 non-null   object \n",
      " 3   city                     263094 non-null  object \n",
      " 4   province                 306481 non-null  object \n",
      " 5   country                  307380 non-null  object \n",
      " 6   latitude                 307382 non-null  float64\n",
      " 7   longitude                307382 non-null  float64\n",
      " 8   geo_resolution           307382 non-null  object \n",
      " 9   date_confirmation        307308 non-null  object \n",
      " 10  travel_history_dates     315 non-null     object \n",
      " 11  travel_history_location  968 non-null     object \n",
      " 12  additional_information   18597 non-null   object \n",
      " 13  chronic_disease_binary   307382 non-null  bool   \n",
      " 14  chronic_disease          125 non-null     object \n",
      " 15  source                   279695 non-null  object \n",
      " 16  outcome                  307382 non-null  object \n",
      " 17  location                 6570 non-null    object \n",
      " 18  admin1                   37823 non-null   object \n",
      " 19  country_new              303856 non-null  object \n",
      " 20  admin_id                 307382 non-null  float64\n",
      " 21  data_moderator_initials  301137 non-null  object \n",
      " 22  travel_history_binary    307057 non-null  object \n",
      "dtypes: bool(1), float64(3), object(19)\n",
      "memory usage: 54.2+ MB\n"
     ]
    }
   ],
   "source": [
    "df = df.drop([\"date_onset_symptoms\", \"date_admission_hospital\",\"symptoms\", \"lives_in_Wuhan\", \"reported_market_exposure\",\n",
    "              \"sequence_available\", \"date_death_or_discharge\", \"notes_for_discussion\", \"admin3\", \"admin2\"], axis=1)\n",
    "df.info()"
   ]
  },
  {
   "cell_type": "markdown",
   "id": "corporate-census",
   "metadata": {},
   "source": [
    "Now I want to analyse the travel_history_dates and travel_history_location to try and increase the number of records with a travel_history_binary set. To do this I want to look at all of the records that have either travel_history_dates or travel_history_location set and an empty travel_history_binary:"
   ]
  },
  {
   "cell_type": "code",
   "execution_count": 10,
   "id": "standing-result",
   "metadata": {},
   "outputs": [
    {
     "name": "stdout",
     "output_type": "stream",
     "text": [
      "<class 'pandas.core.frame.DataFrame'>\n",
      "Int64Index: 93 entries, 0 to 43285\n",
      "Data columns (total 23 columns):\n",
      " #   Column                   Non-Null Count  Dtype  \n",
      "---  ------                   --------------  -----  \n",
      " 0   ID                       93 non-null     object \n",
      " 1   age                      82 non-null     object \n",
      " 2   sex                      89 non-null     object \n",
      " 3   city                     80 non-null     object \n",
      " 4   province                 73 non-null     object \n",
      " 5   country                  93 non-null     object \n",
      " 6   latitude                 93 non-null     float64\n",
      " 7   longitude                93 non-null     float64\n",
      " 8   geo_resolution           93 non-null     object \n",
      " 9   date_confirmation        93 non-null     object \n",
      " 10  travel_history_dates     72 non-null     object \n",
      " 11  travel_history_location  93 non-null     object \n",
      " 12  additional_information   69 non-null     object \n",
      " 13  chronic_disease_binary   93 non-null     bool   \n",
      " 14  chronic_disease          5 non-null      object \n",
      " 15  source                   93 non-null     object \n",
      " 16  outcome                  93 non-null     object \n",
      " 17  location                 42 non-null     object \n",
      " 18  admin1                   77 non-null     object \n",
      " 19  country_new              92 non-null     object \n",
      " 20  admin_id                 93 non-null     float64\n",
      " 21  data_moderator_initials  1 non-null      object \n",
      " 22  travel_history_binary    0 non-null      object \n",
      "dtypes: bool(1), float64(3), object(19)\n",
      "memory usage: 16.8+ KB\n"
     ]
    }
   ],
   "source": [
    "travel_binary_frame = df[(df[\"travel_history_binary\"].isna()) &\n",
    "                         ((df[\"travel_history_dates\"].notna()) | (df[\"travel_history_location\"].notna()))]\n",
    "travel_binary_frame.info()"
   ]
  },
  {
   "cell_type": "markdown",
   "id": "democratic-fourth",
   "metadata": {},
   "source": [
    "This leaves 93 records. I want to see the values that are present in the travel_history_location since it is not-null for all of the records here:"
   ]
  },
  {
   "cell_type": "code",
   "execution_count": 11,
   "id": "romance-masters",
   "metadata": {},
   "outputs": [
    {
     "data": {
      "text/plain": [
       "array(['china', 'wuhan city, hubei', 'milan, lombardia, italy',\n",
       "       'daegu, south korea', 'jakarta, indonesia',\n",
       "       'johor, malaysia; singapore',\n",
       "       'wuhan city, hubei; hong kong, china', 'hubei',\n",
       "       'haute-savoie, auvergne-rhone-alpes, france',\n",
       "       'new york city, new york, united states', \"xi'an city, shaanxi\",\n",
       "       \"xiogan city, hubei; xi'an city, shaanxi\", 'weinan city, shaanxi',\n",
       "       'ankang city, shaanxi', 'south korea', 'shenzhen city, guangdong',\n",
       "       'nha trang, khanh hoa, vietnam', 'suzhou city, jiangsu',\n",
       "       'dongguan city, guangdong',\n",
       "       'tianmen city, hubei; wuhan city, hubei; anhui',\n",
       "       'guiyang city, guizhou', 'italy', 'ezhou city, hubei', 'france',\n",
       "       'bavaria, germany', 'thailand', 'malaysia'], dtype=object)"
      ]
     },
     "execution_count": 11,
     "metadata": {},
     "output_type": "execute_result"
    }
   ],
   "source": [
    "unique_travel_locations = travel_binary_frame[\"travel_history_location\"].str.lower().unique()\n",
    "unique_travel_locations"
   ]
  },
  {
   "cell_type": "markdown",
   "id": "atlantic-indianapolis",
   "metadata": {},
   "source": [
    "These are all locations (I wanted to check it didn't say that didn't travel in this column) so I can set all of these records travel_history_binary to True in the main data frame and drop the travel_history_dates and travel_history_location columns."
   ]
  },
  {
   "cell_type": "code",
   "execution_count": 12,
   "id": "played-architecture",
   "metadata": {},
   "outputs": [
    {
     "name": "stdout",
     "output_type": "stream",
     "text": [
      "<class 'pandas.core.frame.DataFrame'>\n",
      "Int64Index: 307382 entries, 0 to 673607\n",
      "Data columns (total 21 columns):\n",
      " #   Column                   Non-Null Count   Dtype  \n",
      "---  ------                   --------------   -----  \n",
      " 0   ID                       307382 non-null  object \n",
      " 1   age                      34435 non-null   object \n",
      " 2   sex                      38115 non-null   object \n",
      " 3   city                     263094 non-null  object \n",
      " 4   province                 306481 non-null  object \n",
      " 5   country                  307380 non-null  object \n",
      " 6   latitude                 307382 non-null  float64\n",
      " 7   longitude                307382 non-null  float64\n",
      " 8   geo_resolution           307382 non-null  object \n",
      " 9   date_confirmation        307308 non-null  object \n",
      " 10  additional_information   18597 non-null   object \n",
      " 11  chronic_disease_binary   307382 non-null  bool   \n",
      " 12  chronic_disease          125 non-null     object \n",
      " 13  source                   279695 non-null  object \n",
      " 14  outcome                  307382 non-null  object \n",
      " 15  location                 6570 non-null    object \n",
      " 16  admin1                   37823 non-null   object \n",
      " 17  country_new              303856 non-null  object \n",
      " 18  admin_id                 307382 non-null  float64\n",
      " 19  data_moderator_initials  301137 non-null  object \n",
      " 20  travel_history_binary    307150 non-null  object \n",
      "dtypes: bool(1), float64(3), object(17)\n",
      "memory usage: 49.5+ MB\n"
     ]
    }
   ],
   "source": [
    "def clean_travel_binary(row):\n",
    "    if pd.notna(row[\"travel_history_binary\"]):\n",
    "        return row[\"travel_history_binary\"]\n",
    "\n",
    "    if pd.isna(row[\"travel_history_dates\"]) and pd.isna(row[\"travel_history_location\"]):\n",
    "        return row[\"travel_history_binary\"]\n",
    "\n",
    "    return True\n",
    "\n",
    "df[\"travel_history_binary\"] = df.apply(clean_travel_binary, axis=1)\n",
    "df = df.drop([\"travel_history_dates\", \"travel_history_location\"], axis=1)\n",
    "df.info()"
   ]
  },
  {
   "cell_type": "markdown",
   "id": "devoted-consideration",
   "metadata": {},
   "source": [
    "The remaining records without a travel_history_binary make up a tiny proportion of the dataset (232 out of 307382 records) so we can drop these as we cannot recover their true value."
   ]
  },
  {
   "cell_type": "code",
   "execution_count": 13,
   "id": "saving-auckland",
   "metadata": {},
   "outputs": [
    {
     "name": "stdout",
     "output_type": "stream",
     "text": [
      "<class 'pandas.core.frame.DataFrame'>\n",
      "Int64Index: 307150 entries, 0 to 673607\n",
      "Data columns (total 21 columns):\n",
      " #   Column                   Non-Null Count   Dtype  \n",
      "---  ------                   --------------   -----  \n",
      " 0   ID                       307150 non-null  object \n",
      " 1   age                      34221 non-null   object \n",
      " 2   sex                      37947 non-null   object \n",
      " 3   city                     262879 non-null  object \n",
      " 4   province                 306297 non-null  object \n",
      " 5   country                  307149 non-null  object \n",
      " 6   latitude                 307150 non-null  float64\n",
      " 7   longitude                307150 non-null  float64\n",
      " 8   geo_resolution           307150 non-null  object \n",
      " 9   date_confirmation        307115 non-null  object \n",
      " 10  additional_information   18463 non-null   object \n",
      " 11  chronic_disease_binary   307150 non-null  bool   \n",
      " 12  chronic_disease          100 non-null     object \n",
      " 13  source                   279463 non-null  object \n",
      " 14  outcome                  307150 non-null  object \n",
      " 15  location                 6508 non-null    object \n",
      " 16  admin1                   37639 non-null   object \n",
      " 17  country_new              303625 non-null  object \n",
      " 18  admin_id                 307150 non-null  float64\n",
      " 19  data_moderator_initials  301137 non-null  object \n",
      " 20  travel_history_binary    307150 non-null  object \n",
      "dtypes: bool(1), float64(3), object(17)\n",
      "memory usage: 49.5+ MB\n"
     ]
    }
   ],
   "source": [
    "df = df[df[\"travel_history_binary\"].notna()]\n",
    "df.info()"
   ]
  },
  {
   "cell_type": "markdown",
   "id": "successful-factory",
   "metadata": {},
   "source": [
    "There still remains quite a bit of redundant information encoded in the data. Namely, location and admin1 are determined by the latitude and longitude which we have for all of the records (whereas location and admin1 are missing for some). I also think that additional_information and data_moderator_initials are metadata about the collation of the data set rather than about the patients instead. This will be easiest to check by looking at a few records that have these values set:"
   ]
  },
  {
   "cell_type": "code",
   "execution_count": 14,
   "id": "simple-abortion",
   "metadata": {},
   "outputs": [
    {
     "data": {
      "text/html": [
       "<div>\n",
       "<style scoped>\n",
       "    .dataframe tbody tr th:only-of-type {\n",
       "        vertical-align: middle;\n",
       "    }\n",
       "\n",
       "    .dataframe tbody tr th {\n",
       "        vertical-align: top;\n",
       "    }\n",
       "\n",
       "    .dataframe thead th {\n",
       "        text-align: right;\n",
       "    }\n",
       "</style>\n",
       "<table border=\"1\" class=\"dataframe\">\n",
       "  <thead>\n",
       "    <tr style=\"text-align: right;\">\n",
       "      <th></th>\n",
       "      <th>ID</th>\n",
       "      <th>age</th>\n",
       "      <th>sex</th>\n",
       "      <th>city</th>\n",
       "      <th>province</th>\n",
       "      <th>country</th>\n",
       "      <th>latitude</th>\n",
       "      <th>longitude</th>\n",
       "      <th>geo_resolution</th>\n",
       "      <th>date_confirmation</th>\n",
       "      <th>additional_information</th>\n",
       "      <th>chronic_disease_binary</th>\n",
       "      <th>chronic_disease</th>\n",
       "      <th>source</th>\n",
       "      <th>outcome</th>\n",
       "      <th>location</th>\n",
       "      <th>admin1</th>\n",
       "      <th>country_new</th>\n",
       "      <th>admin_id</th>\n",
       "      <th>data_moderator_initials</th>\n",
       "      <th>travel_history_binary</th>\n",
       "    </tr>\n",
       "  </thead>\n",
       "  <tbody>\n",
       "    <tr>\n",
       "      <th>41396</th>\n",
       "      <td>000-1-73</td>\n",
       "      <td>37</td>\n",
       "      <td>male</td>\n",
       "      <td>Gold Coast</td>\n",
       "      <td>Queensland</td>\n",
       "      <td>Australia</td>\n",
       "      <td>-28.01670</td>\n",
       "      <td>153.400000</td>\n",
       "      <td>point</td>\n",
       "      <td>05.02.2020</td>\n",
       "      <td>QLD Case 4 part of the same travel group of pa...</td>\n",
       "      <td>False</td>\n",
       "      <td>NaN</td>\n",
       "      <td>https://twitter.com/allysonhorn/status/1224995...</td>\n",
       "      <td>discharge</td>\n",
       "      <td>Gold Coast</td>\n",
       "      <td>Queensland</td>\n",
       "      <td>Australia</td>\n",
       "      <td>3616.0</td>\n",
       "      <td>SL</td>\n",
       "      <td>True</td>\n",
       "    </tr>\n",
       "    <tr>\n",
       "      <th>135171</th>\n",
       "      <td>002-113709</td>\n",
       "      <td>NaN</td>\n",
       "      <td>NaN</td>\n",
       "      <td>NaN</td>\n",
       "      <td>West Bengal</td>\n",
       "      <td>India</td>\n",
       "      <td>23.79776</td>\n",
       "      <td>87.986406</td>\n",
       "      <td>point</td>\n",
       "      <td>27.04.2020</td>\n",
       "      <td>NaN</td>\n",
       "      <td>False</td>\n",
       "      <td>NaN</td>\n",
       "      <td>mohfw.gov.in</td>\n",
       "      <td>Hospitalized</td>\n",
       "      <td>NaN</td>\n",
       "      <td>NaN</td>\n",
       "      <td>India</td>\n",
       "      <td>11129.0</td>\n",
       "      <td>TR</td>\n",
       "      <td>False</td>\n",
       "    </tr>\n",
       "    <tr>\n",
       "      <th>135173</th>\n",
       "      <td>002-113710</td>\n",
       "      <td>NaN</td>\n",
       "      <td>NaN</td>\n",
       "      <td>NaN</td>\n",
       "      <td>West Bengal</td>\n",
       "      <td>India</td>\n",
       "      <td>23.79776</td>\n",
       "      <td>87.986406</td>\n",
       "      <td>point</td>\n",
       "      <td>27.04.2020</td>\n",
       "      <td>NaN</td>\n",
       "      <td>False</td>\n",
       "      <td>NaN</td>\n",
       "      <td>mohfw.gov.in</td>\n",
       "      <td>Hospitalized</td>\n",
       "      <td>NaN</td>\n",
       "      <td>NaN</td>\n",
       "      <td>India</td>\n",
       "      <td>11129.0</td>\n",
       "      <td>TR</td>\n",
       "      <td>False</td>\n",
       "    </tr>\n",
       "    <tr>\n",
       "      <th>135174</th>\n",
       "      <td>002-113711</td>\n",
       "      <td>NaN</td>\n",
       "      <td>NaN</td>\n",
       "      <td>NaN</td>\n",
       "      <td>West Bengal</td>\n",
       "      <td>India</td>\n",
       "      <td>23.79776</td>\n",
       "      <td>87.986406</td>\n",
       "      <td>point</td>\n",
       "      <td>27.04.2020</td>\n",
       "      <td>NaN</td>\n",
       "      <td>False</td>\n",
       "      <td>NaN</td>\n",
       "      <td>mohfw.gov.in</td>\n",
       "      <td>Hospitalized</td>\n",
       "      <td>NaN</td>\n",
       "      <td>NaN</td>\n",
       "      <td>India</td>\n",
       "      <td>11129.0</td>\n",
       "      <td>TR</td>\n",
       "      <td>False</td>\n",
       "    </tr>\n",
       "    <tr>\n",
       "      <th>135175</th>\n",
       "      <td>002-113712</td>\n",
       "      <td>NaN</td>\n",
       "      <td>NaN</td>\n",
       "      <td>NaN</td>\n",
       "      <td>West Bengal</td>\n",
       "      <td>India</td>\n",
       "      <td>23.79776</td>\n",
       "      <td>87.986406</td>\n",
       "      <td>point</td>\n",
       "      <td>27.04.2020</td>\n",
       "      <td>NaN</td>\n",
       "      <td>False</td>\n",
       "      <td>NaN</td>\n",
       "      <td>mohfw.gov.in</td>\n",
       "      <td>Hospitalized</td>\n",
       "      <td>NaN</td>\n",
       "      <td>NaN</td>\n",
       "      <td>India</td>\n",
       "      <td>11129.0</td>\n",
       "      <td>TR</td>\n",
       "      <td>False</td>\n",
       "    </tr>\n",
       "  </tbody>\n",
       "</table>\n",
       "</div>"
      ],
      "text/plain": [
       "                ID  age   sex        city     province    country  latitude  \\\n",
       "41396     000-1-73   37  male  Gold Coast   Queensland  Australia -28.01670   \n",
       "135171  002-113709  NaN   NaN         NaN  West Bengal      India  23.79776   \n",
       "135173  002-113710  NaN   NaN         NaN  West Bengal      India  23.79776   \n",
       "135174  002-113711  NaN   NaN         NaN  West Bengal      India  23.79776   \n",
       "135175  002-113712  NaN   NaN         NaN  West Bengal      India  23.79776   \n",
       "\n",
       "         longitude geo_resolution date_confirmation  \\\n",
       "41396   153.400000          point        05.02.2020   \n",
       "135171   87.986406          point        27.04.2020   \n",
       "135173   87.986406          point        27.04.2020   \n",
       "135174   87.986406          point        27.04.2020   \n",
       "135175   87.986406          point        27.04.2020   \n",
       "\n",
       "                                   additional_information  \\\n",
       "41396   QLD Case 4 part of the same travel group of pa...   \n",
       "135171                                                NaN   \n",
       "135173                                                NaN   \n",
       "135174                                                NaN   \n",
       "135175                                                NaN   \n",
       "\n",
       "        chronic_disease_binary chronic_disease  \\\n",
       "41396                    False             NaN   \n",
       "135171                   False             NaN   \n",
       "135173                   False             NaN   \n",
       "135174                   False             NaN   \n",
       "135175                   False             NaN   \n",
       "\n",
       "                                                   source       outcome  \\\n",
       "41396   https://twitter.com/allysonhorn/status/1224995...     discharge   \n",
       "135171                                       mohfw.gov.in  Hospitalized   \n",
       "135173                                       mohfw.gov.in  Hospitalized   \n",
       "135174                                       mohfw.gov.in  Hospitalized   \n",
       "135175                                       mohfw.gov.in  Hospitalized   \n",
       "\n",
       "          location      admin1 country_new  admin_id data_moderator_initials  \\\n",
       "41396   Gold Coast  Queensland   Australia    3616.0                      SL   \n",
       "135171         NaN         NaN       India   11129.0                      TR   \n",
       "135173         NaN         NaN       India   11129.0                      TR   \n",
       "135174         NaN         NaN       India   11129.0                      TR   \n",
       "135175         NaN         NaN       India   11129.0                      TR   \n",
       "\n",
       "       travel_history_binary  \n",
       "41396                   True  \n",
       "135171                 False  \n",
       "135173                 False  \n",
       "135174                 False  \n",
       "135175                 False  "
      ]
     },
     "execution_count": 14,
     "metadata": {},
     "output_type": "execute_result"
    }
   ],
   "source": [
    "pd.set_option(\"display.max_columns\", None)\n",
    "df[df[\"data_moderator_initials\"].notna()].head()"
   ]
  },
  {
   "cell_type": "code",
   "execution_count": 15,
   "id": "patent-storage",
   "metadata": {},
   "outputs": [
    {
     "data": {
      "text/html": [
       "<div>\n",
       "<style scoped>\n",
       "    .dataframe tbody tr th:only-of-type {\n",
       "        vertical-align: middle;\n",
       "    }\n",
       "\n",
       "    .dataframe tbody tr th {\n",
       "        vertical-align: top;\n",
       "    }\n",
       "\n",
       "    .dataframe thead th {\n",
       "        text-align: right;\n",
       "    }\n",
       "</style>\n",
       "<table border=\"1\" class=\"dataframe\">\n",
       "  <thead>\n",
       "    <tr style=\"text-align: right;\">\n",
       "      <th></th>\n",
       "      <th>ID</th>\n",
       "      <th>age</th>\n",
       "      <th>sex</th>\n",
       "      <th>city</th>\n",
       "      <th>province</th>\n",
       "      <th>country</th>\n",
       "      <th>latitude</th>\n",
       "      <th>longitude</th>\n",
       "      <th>geo_resolution</th>\n",
       "      <th>date_confirmation</th>\n",
       "      <th>additional_information</th>\n",
       "      <th>chronic_disease_binary</th>\n",
       "      <th>chronic_disease</th>\n",
       "      <th>source</th>\n",
       "      <th>outcome</th>\n",
       "      <th>location</th>\n",
       "      <th>admin1</th>\n",
       "      <th>country_new</th>\n",
       "      <th>admin_id</th>\n",
       "      <th>data_moderator_initials</th>\n",
       "      <th>travel_history_binary</th>\n",
       "    </tr>\n",
       "  </thead>\n",
       "  <tbody>\n",
       "    <tr>\n",
       "      <th>0</th>\n",
       "      <td>000-1-1</td>\n",
       "      <td>NaN</td>\n",
       "      <td>male</td>\n",
       "      <td>Shek Lei</td>\n",
       "      <td>Hong Kong</td>\n",
       "      <td>China</td>\n",
       "      <td>22.365019</td>\n",
       "      <td>114.133808</td>\n",
       "      <td>point</td>\n",
       "      <td>14.02.2020</td>\n",
       "      <td>Case 55; mainland China travel via the Lok Ma ...</td>\n",
       "      <td>False</td>\n",
       "      <td>NaN</td>\n",
       "      <td>https://www.scmp.com/news/hong-kong/health-env...</td>\n",
       "      <td>critical condition, intubated as of 14.02.2020</td>\n",
       "      <td>Shek Lei</td>\n",
       "      <td>Hong Kong</td>\n",
       "      <td>China</td>\n",
       "      <td>8029.0</td>\n",
       "      <td>NaN</td>\n",
       "      <td>True</td>\n",
       "    </tr>\n",
       "    <tr>\n",
       "      <th>1113</th>\n",
       "      <td>000-1-110</td>\n",
       "      <td>1</td>\n",
       "      <td>male</td>\n",
       "      <td>KK Women’s and Children’s Hospital</td>\n",
       "      <td>NaN</td>\n",
       "      <td>Singapore</td>\n",
       "      <td>1.310490</td>\n",
       "      <td>103.846761</td>\n",
       "      <td>point</td>\n",
       "      <td>16.02.2020</td>\n",
       "      <td>Case 76; Singapore Citizen who was among the g...</td>\n",
       "      <td>False</td>\n",
       "      <td>NaN</td>\n",
       "      <td>https://bnonews.com/wp-content/uploads/2020/02...</td>\n",
       "      <td>discharge</td>\n",
       "      <td>NaN</td>\n",
       "      <td>NaN</td>\n",
       "      <td>Singapore</td>\n",
       "      <td>10332.0</td>\n",
       "      <td>NaN</td>\n",
       "      <td>True</td>\n",
       "    </tr>\n",
       "    <tr>\n",
       "      <th>1446</th>\n",
       "      <td>000-1-113</td>\n",
       "      <td>32</td>\n",
       "      <td>male</td>\n",
       "      <td>National Centre for Infectious Diseases</td>\n",
       "      <td>NaN</td>\n",
       "      <td>Singapore</td>\n",
       "      <td>1.322098</td>\n",
       "      <td>103.847200</td>\n",
       "      <td>point</td>\n",
       "      <td>21.02.2020</td>\n",
       "      <td>Case 87; Wuhan evacuation, linked to case #76</td>\n",
       "      <td>False</td>\n",
       "      <td>NaN</td>\n",
       "      <td>https://www.moh.gov.sg/news-highlights/details...</td>\n",
       "      <td>discharge</td>\n",
       "      <td>National Centre for Infectious Diseases</td>\n",
       "      <td>NaN</td>\n",
       "      <td>Singapore</td>\n",
       "      <td>6480.0</td>\n",
       "      <td>NaN</td>\n",
       "      <td>True</td>\n",
       "    </tr>\n",
       "    <tr>\n",
       "      <th>2112</th>\n",
       "      <td>000-1-119</td>\n",
       "      <td>NaN</td>\n",
       "      <td>female</td>\n",
       "      <td>NaN</td>\n",
       "      <td>Ticino</td>\n",
       "      <td>Switzerland</td>\n",
       "      <td>46.298856</td>\n",
       "      <td>8.808264</td>\n",
       "      <td>admin1</td>\n",
       "      <td>25.02.2020</td>\n",
       "      <td>Infected at an event on t he 15th Feb 2020</td>\n",
       "      <td>False</td>\n",
       "      <td>NaN</td>\n",
       "      <td>https://www.admin.ch/gov/de/start/dokumentatio...</td>\n",
       "      <td>discharge</td>\n",
       "      <td>NaN</td>\n",
       "      <td>Ticino</td>\n",
       "      <td>Switzerland</td>\n",
       "      <td>860.0</td>\n",
       "      <td>NaN</td>\n",
       "      <td>True</td>\n",
       "    </tr>\n",
       "    <tr>\n",
       "      <th>2224</th>\n",
       "      <td>000-1-120</td>\n",
       "      <td>22</td>\n",
       "      <td>female</td>\n",
       "      <td>NaN</td>\n",
       "      <td>Jeju</td>\n",
       "      <td>South Korea</td>\n",
       "      <td>33.384640</td>\n",
       "      <td>126.555100</td>\n",
       "      <td>admin1</td>\n",
       "      <td>23.02.2020</td>\n",
       "      <td>Case 222; Jeju Case 2</td>\n",
       "      <td>False</td>\n",
       "      <td>NaN</td>\n",
       "      <td>https://www.jeju.go.kr/corona19.jsp#corona-main</td>\n",
       "      <td>discharge</td>\n",
       "      <td>NaN</td>\n",
       "      <td>Jeju</td>\n",
       "      <td>South Korea</td>\n",
       "      <td>501.0</td>\n",
       "      <td>NaN</td>\n",
       "      <td>True</td>\n",
       "    </tr>\n",
       "  </tbody>\n",
       "</table>\n",
       "</div>"
      ],
      "text/plain": [
       "             ID  age     sex                                     city  \\\n",
       "0       000-1-1  NaN    male                                 Shek Lei   \n",
       "1113  000-1-110    1    male       KK Women’s and Children’s Hospital   \n",
       "1446  000-1-113   32    male  National Centre for Infectious Diseases   \n",
       "2112  000-1-119  NaN  female                                      NaN   \n",
       "2224  000-1-120   22  female                                      NaN   \n",
       "\n",
       "       province      country   latitude   longitude geo_resolution  \\\n",
       "0     Hong Kong        China  22.365019  114.133808          point   \n",
       "1113        NaN    Singapore   1.310490  103.846761          point   \n",
       "1446        NaN    Singapore   1.322098  103.847200          point   \n",
       "2112     Ticino  Switzerland  46.298856    8.808264         admin1   \n",
       "2224       Jeju  South Korea  33.384640  126.555100         admin1   \n",
       "\n",
       "     date_confirmation                             additional_information  \\\n",
       "0           14.02.2020  Case 55; mainland China travel via the Lok Ma ...   \n",
       "1113        16.02.2020  Case 76; Singapore Citizen who was among the g...   \n",
       "1446        21.02.2020      Case 87; Wuhan evacuation, linked to case #76   \n",
       "2112        25.02.2020         Infected at an event on t he 15th Feb 2020   \n",
       "2224        23.02.2020                              Case 222; Jeju Case 2   \n",
       "\n",
       "      chronic_disease_binary chronic_disease  \\\n",
       "0                      False             NaN   \n",
       "1113                   False             NaN   \n",
       "1446                   False             NaN   \n",
       "2112                   False             NaN   \n",
       "2224                   False             NaN   \n",
       "\n",
       "                                                 source  \\\n",
       "0     https://www.scmp.com/news/hong-kong/health-env...   \n",
       "1113  https://bnonews.com/wp-content/uploads/2020/02...   \n",
       "1446  https://www.moh.gov.sg/news-highlights/details...   \n",
       "2112  https://www.admin.ch/gov/de/start/dokumentatio...   \n",
       "2224    https://www.jeju.go.kr/corona19.jsp#corona-main   \n",
       "\n",
       "                                             outcome  \\\n",
       "0     critical condition, intubated as of 14.02.2020   \n",
       "1113                                       discharge   \n",
       "1446                                       discharge   \n",
       "2112                                       discharge   \n",
       "2224                                       discharge   \n",
       "\n",
       "                                     location     admin1  country_new  \\\n",
       "0                                    Shek Lei  Hong Kong        China   \n",
       "1113                                      NaN        NaN    Singapore   \n",
       "1446  National Centre for Infectious Diseases        NaN    Singapore   \n",
       "2112                                      NaN     Ticino  Switzerland   \n",
       "2224                                      NaN       Jeju  South Korea   \n",
       "\n",
       "      admin_id data_moderator_initials travel_history_binary  \n",
       "0       8029.0                     NaN                  True  \n",
       "1113   10332.0                     NaN                  True  \n",
       "1446    6480.0                     NaN                  True  \n",
       "2112     860.0                     NaN                  True  \n",
       "2224     501.0                     NaN                  True  "
      ]
     },
     "execution_count": 15,
     "metadata": {},
     "output_type": "execute_result"
    }
   ],
   "source": [
    "df[df[\"additional_information\"].notna()].head()"
   ]
  },
  {
   "cell_type": "markdown",
   "id": "looking-round",
   "metadata": {},
   "source": [
    "It is apparent that additional_information and data_moderator_initials are not going to be processable for machine learning purposes. I will drop all of these columns."
   ]
  },
  {
   "cell_type": "code",
   "execution_count": 16,
   "id": "absent-latin",
   "metadata": {},
   "outputs": [
    {
     "name": "stdout",
     "output_type": "stream",
     "text": [
      "<class 'pandas.core.frame.DataFrame'>\n",
      "Int64Index: 307150 entries, 0 to 673607\n",
      "Data columns (total 17 columns):\n",
      " #   Column                  Non-Null Count   Dtype  \n",
      "---  ------                  --------------   -----  \n",
      " 0   ID                      307150 non-null  object \n",
      " 1   age                     34221 non-null   object \n",
      " 2   sex                     37947 non-null   object \n",
      " 3   city                    262879 non-null  object \n",
      " 4   province                306297 non-null  object \n",
      " 5   country                 307149 non-null  object \n",
      " 6   latitude                307150 non-null  float64\n",
      " 7   longitude               307150 non-null  float64\n",
      " 8   geo_resolution          307150 non-null  object \n",
      " 9   date_confirmation       307115 non-null  object \n",
      " 10  chronic_disease_binary  307150 non-null  bool   \n",
      " 11  chronic_disease         100 non-null     object \n",
      " 12  source                  279463 non-null  object \n",
      " 13  outcome                 307150 non-null  object \n",
      " 14  country_new             303625 non-null  object \n",
      " 15  admin_id                307150 non-null  float64\n",
      " 16  travel_history_binary   307150 non-null  object \n",
      "dtypes: bool(1), float64(3), object(13)\n",
      "memory usage: 40.1+ MB\n"
     ]
    }
   ],
   "source": [
    "df = df.drop([\"location\", \"admin1\", \"additional_information\", \"data_moderator_initials\"], axis=1)\n",
    "df.info()"
   ]
  },
  {
   "cell_type": "markdown",
   "id": "formal-dialogue",
   "metadata": {},
   "source": [
    "1 record is missing the country so lets look at the record"
   ]
  },
  {
   "cell_type": "code",
   "execution_count": 17,
   "id": "corresponding-birmingham",
   "metadata": {},
   "outputs": [
    {
     "data": {
      "text/html": [
       "<div>\n",
       "<style scoped>\n",
       "    .dataframe tbody tr th:only-of-type {\n",
       "        vertical-align: middle;\n",
       "    }\n",
       "\n",
       "    .dataframe tbody tr th {\n",
       "        vertical-align: top;\n",
       "    }\n",
       "\n",
       "    .dataframe thead th {\n",
       "        text-align: right;\n",
       "    }\n",
       "</style>\n",
       "<table border=\"1\" class=\"dataframe\">\n",
       "  <thead>\n",
       "    <tr style=\"text-align: right;\">\n",
       "      <th></th>\n",
       "      <th>ID</th>\n",
       "      <th>age</th>\n",
       "      <th>sex</th>\n",
       "      <th>city</th>\n",
       "      <th>province</th>\n",
       "      <th>country</th>\n",
       "      <th>latitude</th>\n",
       "      <th>longitude</th>\n",
       "      <th>geo_resolution</th>\n",
       "      <th>date_confirmation</th>\n",
       "      <th>chronic_disease_binary</th>\n",
       "      <th>chronic_disease</th>\n",
       "      <th>source</th>\n",
       "      <th>outcome</th>\n",
       "      <th>country_new</th>\n",
       "      <th>admin_id</th>\n",
       "      <th>travel_history_binary</th>\n",
       "    </tr>\n",
       "  </thead>\n",
       "  <tbody>\n",
       "    <tr>\n",
       "      <th>135606</th>\n",
       "      <td>002-11410</td>\n",
       "      <td>60-69</td>\n",
       "      <td>male</td>\n",
       "      <td>NaN</td>\n",
       "      <td>Taiwan</td>\n",
       "      <td>NaN</td>\n",
       "      <td>23.75947</td>\n",
       "      <td>120.9559</td>\n",
       "      <td>admin1</td>\n",
       "      <td>15.02.2020</td>\n",
       "      <td>True</td>\n",
       "      <td>hepatitis B, diabetes</td>\n",
       "      <td>https://www.cdc.gov.tw/Bulletin/Detail/C7Sfkry...</td>\n",
       "      <td>death</td>\n",
       "      <td>NaN</td>\n",
       "      <td>846.0</td>\n",
       "      <td>True</td>\n",
       "    </tr>\n",
       "  </tbody>\n",
       "</table>\n",
       "</div>"
      ],
      "text/plain": [
       "               ID    age   sex city province country  latitude  longitude  \\\n",
       "135606  002-11410  60-69  male  NaN   Taiwan     NaN  23.75947   120.9559   \n",
       "\n",
       "       geo_resolution date_confirmation  chronic_disease_binary  \\\n",
       "135606         admin1        15.02.2020                    True   \n",
       "\n",
       "              chronic_disease  \\\n",
       "135606  hepatitis B, diabetes   \n",
       "\n",
       "                                                   source outcome country_new  \\\n",
       "135606  https://www.cdc.gov.tw/Bulletin/Detail/C7Sfkry...   death         NaN   \n",
       "\n",
       "        admin_id travel_history_binary  \n",
       "135606     846.0                  True  "
      ]
     },
     "execution_count": 17,
     "metadata": {},
     "output_type": "execute_result"
    }
   ],
   "source": [
    "missing_country = df[df[\"country\"].isna()]\n",
    "missing_country"
   ]
  },
  {
   "cell_type": "markdown",
   "id": "discrete-salmon",
   "metadata": {},
   "source": [
    "It is also missing the country_new field. It is unclear what country to put it under, I will see if there are other records with the province as Taiwan in the dataset."
   ]
  },
  {
   "cell_type": "code",
   "execution_count": 18,
   "id": "veterinary-demographic",
   "metadata": {},
   "outputs": [
    {
     "data": {
      "text/html": [
       "<div>\n",
       "<style scoped>\n",
       "    .dataframe tbody tr th:only-of-type {\n",
       "        vertical-align: middle;\n",
       "    }\n",
       "\n",
       "    .dataframe tbody tr th {\n",
       "        vertical-align: top;\n",
       "    }\n",
       "\n",
       "    .dataframe thead th {\n",
       "        text-align: right;\n",
       "    }\n",
       "</style>\n",
       "<table border=\"1\" class=\"dataframe\">\n",
       "  <thead>\n",
       "    <tr style=\"text-align: right;\">\n",
       "      <th></th>\n",
       "      <th>ID</th>\n",
       "      <th>age</th>\n",
       "      <th>sex</th>\n",
       "      <th>city</th>\n",
       "      <th>province</th>\n",
       "      <th>country</th>\n",
       "      <th>latitude</th>\n",
       "      <th>longitude</th>\n",
       "      <th>geo_resolution</th>\n",
       "      <th>date_confirmation</th>\n",
       "      <th>chronic_disease_binary</th>\n",
       "      <th>chronic_disease</th>\n",
       "      <th>source</th>\n",
       "      <th>outcome</th>\n",
       "      <th>country_new</th>\n",
       "      <th>admin_id</th>\n",
       "      <th>travel_history_binary</th>\n",
       "    </tr>\n",
       "  </thead>\n",
       "  <tbody>\n",
       "  </tbody>\n",
       "</table>\n",
       "</div>"
      ],
      "text/plain": [
       "Empty DataFrame\n",
       "Columns: [ID, age, sex, city, province, country, latitude, longitude, geo_resolution, date_confirmation, chronic_disease_binary, chronic_disease, source, outcome, country_new, admin_id, travel_history_binary]\n",
       "Index: []"
      ]
     },
     "execution_count": 18,
     "metadata": {},
     "output_type": "execute_result"
    }
   ],
   "source": [
    "province_taiwan = df[df[\"country\"].str.lower() == \"taiwan\"]\n",
    "province_taiwan"
   ]
  },
  {
   "cell_type": "markdown",
   "id": "relevant-toronto",
   "metadata": {},
   "source": [
    "There are none so it would be most appropriate to drop this record as it is only 1 / 307150 records"
   ]
  },
  {
   "cell_type": "code",
   "execution_count": 19,
   "id": "boring-question",
   "metadata": {},
   "outputs": [
    {
     "name": "stdout",
     "output_type": "stream",
     "text": [
      "<class 'pandas.core.frame.DataFrame'>\n",
      "Int64Index: 307149 entries, 0 to 673607\n",
      "Data columns (total 17 columns):\n",
      " #   Column                  Non-Null Count   Dtype  \n",
      "---  ------                  --------------   -----  \n",
      " 0   ID                      307149 non-null  object \n",
      " 1   age                     34220 non-null   object \n",
      " 2   sex                     37946 non-null   object \n",
      " 3   city                    262879 non-null  object \n",
      " 4   province                306296 non-null  object \n",
      " 5   country                 307149 non-null  object \n",
      " 6   latitude                307149 non-null  float64\n",
      " 7   longitude               307149 non-null  float64\n",
      " 8   geo_resolution          307149 non-null  object \n",
      " 9   date_confirmation       307114 non-null  object \n",
      " 10  chronic_disease_binary  307149 non-null  bool   \n",
      " 11  chronic_disease         99 non-null      object \n",
      " 12  source                  279462 non-null  object \n",
      " 13  outcome                 307149 non-null  object \n",
      " 14  country_new             303625 non-null  object \n",
      " 15  admin_id                307149 non-null  float64\n",
      " 16  travel_history_binary   307149 non-null  object \n",
      "dtypes: bool(1), float64(3), object(13)\n",
      "memory usage: 40.1+ MB\n"
     ]
    }
   ],
   "source": [
    "df = df[df[\"country\"].notna()]\n",
    "df.info()"
   ]
  },
  {
   "cell_type": "markdown",
   "id": "conceptual-antigua",
   "metadata": {},
   "source": [
    "So we have ID, country, latitude, longitude, geo_resolution, chronic_disease_binary, outcome, admin_id, travel_history_binary for all of the records. Next I want to look at the country_new and see if it differs from the country:"
   ]
  },
  {
   "cell_type": "code",
   "execution_count": 20,
   "id": "spanish-praise",
   "metadata": {},
   "outputs": [
    {
     "name": "stdout",
     "output_type": "stream",
     "text": [
      "<class 'pandas.core.frame.DataFrame'>\n",
      "Int64Index: 0 entries\n",
      "Data columns (total 17 columns):\n",
      " #   Column                  Non-Null Count  Dtype  \n",
      "---  ------                  --------------  -----  \n",
      " 0   ID                      0 non-null      object \n",
      " 1   age                     0 non-null      object \n",
      " 2   sex                     0 non-null      object \n",
      " 3   city                    0 non-null      object \n",
      " 4   province                0 non-null      object \n",
      " 5   country                 0 non-null      object \n",
      " 6   latitude                0 non-null      float64\n",
      " 7   longitude               0 non-null      float64\n",
      " 8   geo_resolution          0 non-null      object \n",
      " 9   date_confirmation       0 non-null      object \n",
      " 10  chronic_disease_binary  0 non-null      bool   \n",
      " 11  chronic_disease         0 non-null      object \n",
      " 12  source                  0 non-null      object \n",
      " 13  outcome                 0 non-null      object \n",
      " 14  country_new             0 non-null      object \n",
      " 15  admin_id                0 non-null      float64\n",
      " 16  travel_history_binary   0 non-null      object \n",
      "dtypes: bool(1), float64(3), object(13)\n",
      "memory usage: 0.0+ bytes\n"
     ]
    }
   ],
   "source": [
    "differing_countries = df[df[\"country_new\"].notna()]\n",
    "differing_countries = differing_countries[differing_countries[\"country\"].str.lower() \n",
    "                                          != differing_countries[\"country_new\"].str.lower()]\n",
    "differing_countries.info()"
   ]
  },
  {
   "cell_type": "markdown",
   "id": "deluxe-accommodation",
   "metadata": {},
   "source": [
    "If we exclude non-NA country_new then we have 0 records when looking for differences so we can safely drop the country_new feature as it is redundant"
   ]
  },
  {
   "cell_type": "code",
   "execution_count": 21,
   "id": "handled-withdrawal",
   "metadata": {},
   "outputs": [
    {
     "name": "stdout",
     "output_type": "stream",
     "text": [
      "<class 'pandas.core.frame.DataFrame'>\n",
      "Int64Index: 307149 entries, 0 to 673607\n",
      "Data columns (total 16 columns):\n",
      " #   Column                  Non-Null Count   Dtype  \n",
      "---  ------                  --------------   -----  \n",
      " 0   ID                      307149 non-null  object \n",
      " 1   age                     34220 non-null   object \n",
      " 2   sex                     37946 non-null   object \n",
      " 3   city                    262879 non-null  object \n",
      " 4   province                306296 non-null  object \n",
      " 5   country                 307149 non-null  object \n",
      " 6   latitude                307149 non-null  float64\n",
      " 7   longitude               307149 non-null  float64\n",
      " 8   geo_resolution          307149 non-null  object \n",
      " 9   date_confirmation       307114 non-null  object \n",
      " 10  chronic_disease_binary  307149 non-null  bool   \n",
      " 11  chronic_disease         99 non-null      object \n",
      " 12  source                  279462 non-null  object \n",
      " 13  outcome                 307149 non-null  object \n",
      " 14  admin_id                307149 non-null  float64\n",
      " 15  travel_history_binary   307149 non-null  object \n",
      "dtypes: bool(1), float64(3), object(12)\n",
      "memory usage: 37.8+ MB\n"
     ]
    }
   ],
   "source": [
    "df = df.drop(\"country_new\", axis=1)\n",
    "df.info()"
   ]
  },
  {
   "cell_type": "markdown",
   "id": "intense-pennsylvania",
   "metadata": {},
   "source": [
    "Then lets look at the distribution of the chronic_disease_binary"
   ]
  },
  {
   "cell_type": "code",
   "execution_count": 22,
   "id": "substantial-builder",
   "metadata": {},
   "outputs": [
    {
     "data": {
      "text/plain": [
       "False    307048\n",
       "True        101\n",
       "Name: chronic_disease_binary, dtype: int64"
      ]
     },
     "execution_count": 22,
     "metadata": {},
     "output_type": "execute_result"
    }
   ],
   "source": [
    "df[\"chronic_disease_binary\"].value_counts(dropna=False)"
   ]
  },
  {
   "cell_type": "markdown",
   "id": "private-thickness",
   "metadata": {},
   "source": [
    "Then lets see if we can do anything with the free text chronic_disease"
   ]
  },
  {
   "cell_type": "code",
   "execution_count": 23,
   "id": "apart-baptist",
   "metadata": {},
   "outputs": [
    {
     "data": {
      "text/plain": [
       "49"
      ]
     },
     "execution_count": 23,
     "metadata": {},
     "output_type": "execute_result"
    }
   ],
   "source": [
    "chronic_diseases = df[\"chronic_disease\"].str.lower().unique()\n",
    "len(chronic_diseases)"
   ]
  },
  {
   "cell_type": "code",
   "execution_count": 24,
   "id": "diagnostic-culture",
   "metadata": {},
   "outputs": [
    {
     "data": {
      "text/plain": [
       "array([nan, 'hypertension', 'diabetes, hypertension',\n",
       "       '\"thought to have had other pre-existing conditions\"',\n",
       "       'history of hypertension, type 2 diabetes, coronary heart disease for which a stent had been implanted, and lung cancer',\n",
       "       'prostate hypertrophy', 'chronic pulmonary condition',\n",
       "       'hiv positive', 'diabetes', 'hypertension:diabetes',\n",
       "       'chronic kidney disease:hypertension:diabetes', 'asthma:diabetes',\n",
       "       'asthma', 'hypertension:diabetes:valvular heart disease',\n",
       "       'chronic kidney disease', 'hypertensive',\n",
       "       'diabetes:hypertension:chronic kidney disease',\n",
       "       'diabetes:hypertenstion:upper git bleeding',\n",
       "       'diabetes:hypertension', 'chronic kidney disease:hypertension',\n",
       "       'pre-renal azotemia:cardiomyopathy:hypertension:diabetes',\n",
       "       'hypertension:diabetes:asthma', 'hypertension:colon cancer',\n",
       "       'chronic kidney disease:hypertension:diabetes:ischemic heart disease',\n",
       "       'pre-renal azotemia:diabetes:hypertension',\n",
       "       'benign prostatic hyperplasia',\n",
       "       'hypertension:bronchial asthma:impaired fasting glucose',\n",
       "       'hypertension:diabetes:dislipidemia', 'hypertension:renal disease',\n",
       "       'hypertension:chronic kidney disease',\n",
       "       'asthma:hypertension:atherosclerosis:coronary artery disease',\n",
       "       'chronic obstructive pulmonary disease',\n",
       "       'hypertension:diabetes:chronic kidney disease',\n",
       "       'atrial fibrillation:hypertension:atherosclerosis:cerebrovascular infarct',\n",
       "       'hypertension:cardiac disease',\n",
       "       'hypertension:coronary artery disease:diabetes',\n",
       "       'hypertension:hypothyroidism',\n",
       "       'hypertension:diabetes:dyslipidemia',\n",
       "       'prostate cancer:chronic obstructive pulmonary disease',\n",
       "       'hypertension:hypothyroidism:renal disease',\n",
       "       'hypertension:diabetes:tongue cancer:cardiovascular disease:benign prostatic hypertrophy',\n",
       "       'diabetes:cardiac dysrhythmia',\n",
       "       'hypertension:diabetes:cardiac disease',\n",
       "       'hypertension; diabetes; asthma', 'hyperthyroidism',\n",
       "       'chronic obstructive pulmonary disease:diabetes:dyslipidemia',\n",
       "       'hypertension:cerebrovascular accident infarct', 'cardiac disease',\n",
       "       'copd'], dtype=object)"
      ]
     },
     "execution_count": 24,
     "metadata": {},
     "output_type": "execute_result"
    }
   ],
   "source": [
    "chronic_diseases"
   ]
  },
  {
   "cell_type": "markdown",
   "id": "fourth-sacrifice",
   "metadata": {},
   "source": [
    "The data looks useful but it will be difficult to categorise and is likely to lead to overfitting as if we introduce a lot of categories then very few records will have a chronic disease assigned to them. Using the binary still risks this overfitting but it shouldn't be as impactful. So I will use these to set all of those with a chronic_disease free text to set the chronic_disease_binary to True if it is missing from a row. (clarify this) since all of the ones above are chronic diseases"
   ]
  },
  {
   "cell_type": "code",
   "execution_count": 25,
   "id": "provincial-mistress",
   "metadata": {},
   "outputs": [
    {
     "data": {
      "text/plain": [
       "False    307048\n",
       "True        101\n",
       "Name: chronic_disease_binary, dtype: int64"
      ]
     },
     "execution_count": 25,
     "metadata": {},
     "output_type": "execute_result"
    }
   ],
   "source": [
    "def clean_chronic_binary(row):\n",
    "    if pd.notna(row[\"chronic_disease_binary\"]):\n",
    "        return row[\"chronic_disease_binary\"]\n",
    "\n",
    "    # If one of the columns has something then we can set it to true otherwise we don't know\n",
    "    return pd.notna(row[\"chronic_disease_binary\"])\n",
    "\n",
    "df[\"chronic_disease_binary\"] = df.apply(clean_chronic_binary, axis=1)\n",
    "df[\"chronic_disease_binary\"].value_counts(dropna=False)"
   ]
  },
  {
   "cell_type": "markdown",
   "id": "subjective-purple",
   "metadata": {},
   "source": [
    "Then we can also drop the chronic_disease feature"
   ]
  },
  {
   "cell_type": "code",
   "execution_count": 26,
   "id": "configured-collection",
   "metadata": {},
   "outputs": [
    {
     "name": "stdout",
     "output_type": "stream",
     "text": [
      "<class 'pandas.core.frame.DataFrame'>\n",
      "Int64Index: 307149 entries, 0 to 673607\n",
      "Data columns (total 15 columns):\n",
      " #   Column                  Non-Null Count   Dtype  \n",
      "---  ------                  --------------   -----  \n",
      " 0   ID                      307149 non-null  object \n",
      " 1   age                     34220 non-null   object \n",
      " 2   sex                     37946 non-null   object \n",
      " 3   city                    262879 non-null  object \n",
      " 4   province                306296 non-null  object \n",
      " 5   country                 307149 non-null  object \n",
      " 6   latitude                307149 non-null  float64\n",
      " 7   longitude               307149 non-null  float64\n",
      " 8   geo_resolution          307149 non-null  object \n",
      " 9   date_confirmation       307114 non-null  object \n",
      " 10  chronic_disease_binary  307149 non-null  bool   \n",
      " 11  source                  279462 non-null  object \n",
      " 12  outcome                 307149 non-null  object \n",
      " 13  admin_id                307149 non-null  float64\n",
      " 14  travel_history_binary   307149 non-null  object \n",
      "dtypes: bool(1), float64(3), object(11)\n",
      "memory usage: 35.4+ MB\n"
     ]
    }
   ],
   "source": [
    "df = df.drop([\"chronic_disease\"], axis=1)\n",
    "df.info()"
   ]
  },
  {
   "cell_type": "markdown",
   "id": "indoor-order",
   "metadata": {},
   "source": [
    "Next I want to look at the date_confirmation field as there is a tiny amount of records missing this. So it is safe to drop any record that does not have this set."
   ]
  },
  {
   "cell_type": "code",
   "execution_count": 27,
   "id": "weekly-trout",
   "metadata": {},
   "outputs": [
    {
     "name": "stdout",
     "output_type": "stream",
     "text": [
      "<class 'pandas.core.frame.DataFrame'>\n",
      "Int64Index: 307114 entries, 0 to 673607\n",
      "Data columns (total 15 columns):\n",
      " #   Column                  Non-Null Count   Dtype  \n",
      "---  ------                  --------------   -----  \n",
      " 0   ID                      307114 non-null  object \n",
      " 1   age                     34188 non-null   object \n",
      " 2   sex                     37914 non-null   object \n",
      " 3   city                    262845 non-null  object \n",
      " 4   province                306265 non-null  object \n",
      " 5   country                 307114 non-null  object \n",
      " 6   latitude                307114 non-null  float64\n",
      " 7   longitude               307114 non-null  float64\n",
      " 8   geo_resolution          307114 non-null  object \n",
      " 9   date_confirmation       307114 non-null  object \n",
      " 10  chronic_disease_binary  307114 non-null  bool   \n",
      " 11  source                  279429 non-null  object \n",
      " 12  outcome                 307114 non-null  object \n",
      " 13  admin_id                307114 non-null  float64\n",
      " 14  travel_history_binary   307114 non-null  object \n",
      "dtypes: bool(1), float64(3), object(11)\n",
      "memory usage: 35.4+ MB\n"
     ]
    }
   ],
   "source": [
    "df = df[df[\"date_confirmation\"].notna()]\n",
    "df.info()"
   ]
  },
  {
   "cell_type": "markdown",
   "id": "combined-belly",
   "metadata": {},
   "source": [
    "Now I want to convert the travel_history_binary to a boolean and rename some columns to clarify the meaning of their boolean status"
   ]
  },
  {
   "cell_type": "code",
   "execution_count": 28,
   "id": "spectacular-longer",
   "metadata": {},
   "outputs": [
    {
     "data": {
      "text/plain": [
       "False    305923\n",
       "True       1191\n",
       "Name: travel_history_binary, dtype: int64"
      ]
     },
     "execution_count": 28,
     "metadata": {},
     "output_type": "execute_result"
    }
   ],
   "source": [
    "df[\"travel_history_binary\"].value_counts(dropna=False)"
   ]
  },
  {
   "cell_type": "markdown",
   "id": "adverse-carry",
   "metadata": {},
   "source": [
    "It is clearly ready to be made into a boolean field"
   ]
  },
  {
   "cell_type": "code",
   "execution_count": 29,
   "id": "prepared-modem",
   "metadata": {},
   "outputs": [
    {
     "name": "stdout",
     "output_type": "stream",
     "text": [
      "<class 'pandas.core.frame.DataFrame'>\n",
      "Int64Index: 307114 entries, 0 to 673607\n",
      "Data columns (total 15 columns):\n",
      " #   Column               Non-Null Count   Dtype  \n",
      "---  ------               --------------   -----  \n",
      " 0   ID                   307114 non-null  object \n",
      " 1   age                  34188 non-null   object \n",
      " 2   sex                  37914 non-null   object \n",
      " 3   city                 262845 non-null  object \n",
      " 4   province             306265 non-null  object \n",
      " 5   country              307114 non-null  object \n",
      " 6   latitude             307114 non-null  float64\n",
      " 7   longitude            307114 non-null  float64\n",
      " 8   geo_resolution       307114 non-null  object \n",
      " 9   date_confirmation    307114 non-null  object \n",
      " 10  has_chronic_disease  307114 non-null  bool   \n",
      " 11  source               279429 non-null  object \n",
      " 12  outcome              307114 non-null  object \n",
      " 13  admin_id             307114 non-null  float64\n",
      " 14  has_travel_history   307114 non-null  bool   \n",
      "dtypes: bool(2), float64(3), object(10)\n",
      "memory usage: 33.4+ MB\n"
     ]
    }
   ],
   "source": [
    "df = df.rename(columns = { \"chronic_disease_binary\": \"has_chronic_disease\", \"travel_history_binary\": \"has_travel_history\" })\n",
    "df[\"has_travel_history\"] = df[\"has_travel_history\"].astype(\"bool\")\n",
    "df.info()"
   ]
  },
  {
   "cell_type": "markdown",
   "id": "aerial-bracelet",
   "metadata": {},
   "source": [
    "Few records are missing the province. I will want to convert the province to categories as well, lets look at the distribution of the provinces:"
   ]
  },
  {
   "cell_type": "code",
   "execution_count": 30,
   "id": "frank-ordinance",
   "metadata": {},
   "outputs": [
    {
     "data": {
      "text/plain": [
       "maharashtra          106515\n",
       "tamil nadu            35939\n",
       "delhi                 29173\n",
       "gujarat               28613\n",
       "rajasthan             14971\n",
       "                      ...  \n",
       "palawan                   1\n",
       "kwale county              1\n",
       "snnpr                     1\n",
       "compostela valley         1\n",
       "maguindanao               1\n",
       "Name: province, Length: 212, dtype: int64"
      ]
     },
     "execution_count": 30,
     "metadata": {},
     "output_type": "execute_result"
    }
   ],
   "source": [
    "df[\"province\"].str.lower().value_counts(dropna=False)"
   ]
  },
  {
   "cell_type": "markdown",
   "id": "indie-arnold",
   "metadata": {},
   "source": [
    "We will need to use one-hot encoding here because if we just label the categories with numbers then it could lead to the machine learning algorithms thinking that, for example, Delhi > Gujarat whereas this has no meaning in the context. However, one-hot encoding will introduce a large number of additional features which could be an issue as it will severely impact the training time of the models especially as we many records. First, I need to see how many values are actually significant."
   ]
  },
  {
   "cell_type": "code",
   "execution_count": 31,
   "id": "seasonal-butter",
   "metadata": {},
   "outputs": [],
   "source": [
    "df[\"province\"].str.lower().value_counts(dropna=False, normalize=True).to_csv(\"provinces.csv\")"
   ]
  },
  {
   "cell_type": "markdown",
   "id": "israeli-emerald",
   "metadata": {},
   "source": [
    "Cutting off the provinces for all classes with <1% of the share will leave 28 classes (and an extra one to bundle all the others together but this doesn't need to be a feature since if all the other class features are False then that implies it must be in the bundled class)"
   ]
  },
  {
   "cell_type": "code",
   "execution_count": 32,
   "id": "threaded-aquarium",
   "metadata": {},
   "outputs": [],
   "source": [
    "def reduce_categories(row, column_name, value_counts, keep_condition, replacement=\"other\"):\n",
    "    if pd.isna(row[column_name]):\n",
    "        return replacement\n",
    "    \n",
    "    if keep_condition(value_counts[row[column_name].lower()]):\n",
    "        return row[column_name].lower()\n",
    "\n",
    "    return replacement"
   ]
  },
  {
   "cell_type": "code",
   "execution_count": 33,
   "id": "strategic-posting",
   "metadata": {},
   "outputs": [
    {
     "data": {
      "text/plain": [
       "maharashtra          0.346826\n",
       "tamil nadu           0.117022\n",
       "delhi                0.094991\n",
       "gujarat              0.093167\n",
       "rajasthan            0.048747\n",
       "uttar pradesh        0.043642\n",
       "madhya pradesh       0.043150\n",
       "other                0.036996\n",
       "west bengal          0.030803\n",
       "andhra pradesh       0.021679\n",
       "bihar                0.019752\n",
       "state unassigned     0.018332\n",
       "karnataka            0.014975\n",
       "punjab               0.013982\n",
       "telangana            0.013122\n",
       "jammu and kashmir    0.011185\n",
       "odisha               0.010853\n",
       "haryana              0.010625\n",
       "metro manila         0.010153\n",
       "Name: province, dtype: float64"
      ]
     },
     "execution_count": 33,
     "metadata": {},
     "output_type": "execute_result"
    }
   ],
   "source": [
    "normalised_province_vc = df[\"province\"].str.lower().value_counts(normalize=True) >= 0.01\n",
    "province_reducer = lambda row: reduce_categories(row, \"province\", normalised_province_vc, lambda b: b == True)\n",
    "df[\"province\"] = df.apply(province_reducer, axis=1)\n",
    "df[\"province\"].value_counts(normalize=True, dropna=False)"
   ]
  },
  {
   "cell_type": "markdown",
   "id": "presidential-guitar",
   "metadata": {},
   "source": [
    "Now we can one-hot encode the categories and remove the original column"
   ]
  },
  {
   "cell_type": "code",
   "execution_count": 34,
   "id": "freelance-shape",
   "metadata": {},
   "outputs": [
    {
     "name": "stdout",
     "output_type": "stream",
     "text": [
      "<class 'pandas.core.frame.DataFrame'>\n",
      "Int64Index: 307114 entries, 0 to 673607\n",
      "Data columns (total 32 columns):\n",
      " #   Column                      Non-Null Count   Dtype  \n",
      "---  ------                      --------------   -----  \n",
      " 0   ID                          307114 non-null  object \n",
      " 1   age                         34188 non-null   object \n",
      " 2   sex                         37914 non-null   object \n",
      " 3   city                        262845 non-null  object \n",
      " 4   country                     307114 non-null  object \n",
      " 5   latitude                    307114 non-null  float64\n",
      " 6   longitude                   307114 non-null  float64\n",
      " 7   geo_resolution              307114 non-null  object \n",
      " 8   date_confirmation           307114 non-null  object \n",
      " 9   has_chronic_disease         307114 non-null  bool   \n",
      " 10  source                      279429 non-null  object \n",
      " 11  outcome                     307114 non-null  object \n",
      " 12  admin_id                    307114 non-null  float64\n",
      " 13  has_travel_history          307114 non-null  bool   \n",
      " 14  province_bihar              307114 non-null  uint8  \n",
      " 15  province_delhi              307114 non-null  uint8  \n",
      " 16  province_gujarat            307114 non-null  uint8  \n",
      " 17  province_haryana            307114 non-null  uint8  \n",
      " 18  province_jammu and kashmir  307114 non-null  uint8  \n",
      " 19  province_karnataka          307114 non-null  uint8  \n",
      " 20  province_madhya pradesh     307114 non-null  uint8  \n",
      " 21  province_maharashtra        307114 non-null  uint8  \n",
      " 22  province_metro manila       307114 non-null  uint8  \n",
      " 23  province_odisha             307114 non-null  uint8  \n",
      " 24  province_other              307114 non-null  uint8  \n",
      " 25  province_punjab             307114 non-null  uint8  \n",
      " 26  province_rajasthan          307114 non-null  uint8  \n",
      " 27  province_state unassigned   307114 non-null  uint8  \n",
      " 28  province_tamil nadu         307114 non-null  uint8  \n",
      " 29  province_telangana          307114 non-null  uint8  \n",
      " 30  province_uttar pradesh      307114 non-null  uint8  \n",
      " 31  province_west bengal        307114 non-null  uint8  \n",
      "dtypes: bool(2), float64(3), object(9), uint8(18)\n",
      "memory usage: 36.3+ MB\n"
     ]
    }
   ],
   "source": [
    "province_dummies = pd.get_dummies(df[\"province\"].str.lower(), prefix=\"province\", drop_first=True)\n",
    "df = pd.concat([df, province_dummies], axis=1)\n",
    "df = df.drop(\"province\", axis=1)\n",
    "df.info()"
   ]
  },
  {
   "cell_type": "markdown",
   "id": "humanitarian-encoding",
   "metadata": {},
   "source": [
    "I want to do the same now for cities"
   ]
  },
  {
   "cell_type": "code",
   "execution_count": 35,
   "id": "hollywood-iraqi",
   "metadata": {},
   "outputs": [
    {
     "data": {
      "text/plain": [
       "mumbai                 56178\n",
       "NaN                    44269\n",
       "chennai                23907\n",
       "ahmedabad              20815\n",
       "thane                  13085\n",
       "                       ...  \n",
       "ranganayakakulapeta        1\n",
       "west mambalam              1\n",
       "hisua                      1\n",
       "imphal                     1\n",
       "kithwan                    1\n",
       "Name: city, Length: 2269, dtype: int64"
      ]
     },
     "execution_count": 35,
     "metadata": {},
     "output_type": "execute_result"
    }
   ],
   "source": [
    "df[\"city\"].str.lower().value_counts(dropna=False)"
   ]
  },
  {
   "cell_type": "markdown",
   "id": "special-monroe",
   "metadata": {},
   "source": [
    "There are a lot of cities so we need to reduce this a lot. I will map the NaN values to other immediately."
   ]
  },
  {
   "cell_type": "code",
   "execution_count": 36,
   "id": "solved-location",
   "metadata": {},
   "outputs": [],
   "source": [
    "df[\"city\"] = df[\"city\"].fillna(\"other\")\n",
    "df[\"city\"].str.lower().value_counts(dropna=False, normalize=True).to_csv(\"cities.csv\")"
   ]
  },
  {
   "cell_type": "markdown",
   "id": "proved-exercise",
   "metadata": {},
   "source": [
    "I will use the same condition that I will bundle all of those with <1% of the share of the records"
   ]
  },
  {
   "cell_type": "code",
   "execution_count": 37,
   "id": "still-slope",
   "metadata": {},
   "outputs": [
    {
     "data": {
      "text/plain": [
       "other         0.534075\n",
       "mumbai        0.182922\n",
       "chennai       0.077844\n",
       "ahmedabad     0.067776\n",
       "thane         0.042606\n",
       "pune          0.037074\n",
       "unassigned    0.018332\n",
       "indore        0.017655\n",
       "jaipur        0.011491\n",
       "kolkata       0.010224\n",
       "Name: city, dtype: float64"
      ]
     },
     "execution_count": 37,
     "metadata": {},
     "output_type": "execute_result"
    }
   ],
   "source": [
    "normalised_city_vc = df[\"city\"].str.lower().value_counts(normalize=True) >= 0.01\n",
    "city_reducer = lambda row: reduce_categories(row, \"city\", normalised_city_vc, lambda b: b == True)\n",
    "df[\"city\"] = df.apply(city_reducer, axis=1)\n",
    "df[\"city\"].value_counts(normalize=True, dropna=False)"
   ]
  },
  {
   "cell_type": "markdown",
   "id": "fresh-surface",
   "metadata": {},
   "source": [
    "Now I one-hot encode this feature and drop the original column"
   ]
  },
  {
   "cell_type": "code",
   "execution_count": 38,
   "id": "artistic-travel",
   "metadata": {},
   "outputs": [
    {
     "name": "stdout",
     "output_type": "stream",
     "text": [
      "<class 'pandas.core.frame.DataFrame'>\n",
      "Int64Index: 307114 entries, 0 to 673607\n",
      "Data columns (total 49 columns):\n",
      " #   Column                      Non-Null Count   Dtype  \n",
      "---  ------                      --------------   -----  \n",
      " 0   ID                          307114 non-null  object \n",
      " 1   age                         34188 non-null   object \n",
      " 2   sex                         37914 non-null   object \n",
      " 3   country                     307114 non-null  object \n",
      " 4   latitude                    307114 non-null  float64\n",
      " 5   longitude                   307114 non-null  float64\n",
      " 6   geo_resolution              307114 non-null  object \n",
      " 7   date_confirmation           307114 non-null  object \n",
      " 8   has_chronic_disease         307114 non-null  bool   \n",
      " 9   source                      279429 non-null  object \n",
      " 10  outcome                     307114 non-null  object \n",
      " 11  admin_id                    307114 non-null  float64\n",
      " 12  has_travel_history          307114 non-null  bool   \n",
      " 13  province_bihar              307114 non-null  uint8  \n",
      " 14  province_delhi              307114 non-null  uint8  \n",
      " 15  province_gujarat            307114 non-null  uint8  \n",
      " 16  province_haryana            307114 non-null  uint8  \n",
      " 17  province_jammu and kashmir  307114 non-null  uint8  \n",
      " 18  province_karnataka          307114 non-null  uint8  \n",
      " 19  province_madhya pradesh     307114 non-null  uint8  \n",
      " 20  province_maharashtra        307114 non-null  uint8  \n",
      " 21  province_metro manila       307114 non-null  uint8  \n",
      " 22  province_odisha             307114 non-null  uint8  \n",
      " 23  province_other              307114 non-null  uint8  \n",
      " 24  province_punjab             307114 non-null  uint8  \n",
      " 25  province_rajasthan          307114 non-null  uint8  \n",
      " 26  province_state unassigned   307114 non-null  uint8  \n",
      " 27  province_tamil nadu         307114 non-null  uint8  \n",
      " 28  province_telangana          307114 non-null  uint8  \n",
      " 29  province_uttar pradesh      307114 non-null  uint8  \n",
      " 30  province_west bengal        307114 non-null  uint8  \n",
      " 31  province_bihar              307114 non-null  uint8  \n",
      " 32  province_delhi              307114 non-null  uint8  \n",
      " 33  province_gujarat            307114 non-null  uint8  \n",
      " 34  province_haryana            307114 non-null  uint8  \n",
      " 35  province_jammu and kashmir  307114 non-null  uint8  \n",
      " 36  province_karnataka          307114 non-null  uint8  \n",
      " 37  province_madhya pradesh     307114 non-null  uint8  \n",
      " 38  province_maharashtra        307114 non-null  uint8  \n",
      " 39  province_metro manila       307114 non-null  uint8  \n",
      " 40  province_odisha             307114 non-null  uint8  \n",
      " 41  province_other              307114 non-null  uint8  \n",
      " 42  province_punjab             307114 non-null  uint8  \n",
      " 43  province_rajasthan          307114 non-null  uint8  \n",
      " 44  province_state unassigned   307114 non-null  uint8  \n",
      " 45  province_tamil nadu         307114 non-null  uint8  \n",
      " 46  province_telangana          307114 non-null  uint8  \n",
      " 47  province_uttar pradesh      307114 non-null  uint8  \n",
      " 48  province_west bengal        307114 non-null  uint8  \n",
      "dtypes: bool(2), float64(3), object(8), uint8(36)\n",
      "memory usage: 39.2+ MB\n"
     ]
    }
   ],
   "source": [
    "city_dummies = pd.get_dummies(df[\"city\"].str.lower(), prefix=\"city\", drop_first=True)\n",
    "df = pd.concat([df, province_dummies], axis=1)\n",
    "df = df.drop(\"city\", axis=1)\n",
    "df.info()"
   ]
  },
  {
   "cell_type": "markdown",
   "id": "suffering-somerset",
   "metadata": {},
   "source": [
    "Now I need to do something similar to the source column too but first I need to parse the values to simplify them."
   ]
  },
  {
   "cell_type": "code",
   "execution_count": 39,
   "id": "bulgarian-happening",
   "metadata": {},
   "outputs": [],
   "source": [
    "copy_df = df"
   ]
  },
  {
   "cell_type": "code",
   "execution_count": 40,
   "id": "directed-discrimination",
   "metadata": {},
   "outputs": [
    {
     "data": {
      "text/plain": [
       "other                                                                                                                        0.090146\n",
       "https://arogya.maharashtra.gov.in/pdf/ncovidepressnotemay29.pdf                                                              0.036368\n",
       "https://phdmah.maps.arcgis.com/apps/opsdashboard/index.html#/2cc0055832264c5296890745e9ea415c                                0.017323\n",
       "mohfw.gov.in                                                                                                                 0.016867\n",
       "PH Data Drop                                                                                                                 0.014203\n",
       "                                                                                                                               ...   \n",
       "https://twitter.com/ANI/status/1260499847670628352                                                                           0.000003\n",
       "http://www.nhmharyana.gov.in/WriteReadData/userfiles/file/CoronaVirus/Bulletin%20of%20Haryana%20as%20on%2025%20March1.pdf    0.000003\n",
       "https://twitter.com/CollectorDnh/status/1257638673312444416                                                                  0.000003\n",
       "https://twitter.com/ANI/status/1254983572189921281?s=20                                                                      0.000003\n",
       "https://twitter.com/ANI/status/1254256358636978178?s=48                                                                      0.000003\n",
       "Name: source, Length: 3068, dtype: float64"
      ]
     },
     "execution_count": 40,
     "metadata": {},
     "output_type": "execute_result"
    }
   ],
   "source": [
    "df[\"source\"] = df[\"source\"].fillna(\"other\")\n",
    "df[\"source\"].value_counts(dropna=False, normalize=True)"
   ]
  },
  {
   "cell_type": "code",
   "execution_count": 41,
   "id": "registered-airport",
   "metadata": {},
   "outputs": [
    {
     "data": {
      "text/plain": [
       "twitter.com                  0.438375\n",
       "t.me                         0.141351\n",
       "other                        0.122485\n",
       "stopcorona.tn.gov.in         0.111773\n",
       "arogya.maharashtra.gov.in    0.073601\n",
       "                               ...   \n",
       "www.kiro7.com                0.000003\n",
       "apanews.net                  0.000003\n",
       "tiolpost.com                 0.000003\n",
       "www.africanews.com           0.000003\n",
       "www.who.int                  0.000003\n",
       "Name: source, Length: 202, dtype: float64"
      ]
     },
     "execution_count": 41,
     "metadata": {},
     "output_type": "execute_result"
    }
   ],
   "source": [
    "from urllib.parse import urlsplit\n",
    "\n",
    "def simplify_sources(row):\n",
    "    lowercase_url = row[\"source\"].lower()\n",
    "    if lowercase_url == \"other\":\n",
    "        return \"other\"\n",
    "\n",
    "    netloc = urlsplit(lowercase_url).netloc\n",
    "\n",
    "    if netloc == \"\":\n",
    "        return \"other\"\n",
    "\n",
    "    return netloc\n",
    "\n",
    "df[\"source\"] = df.apply(simplify_sources, axis=1)\n",
    "df[\"source\"].value_counts(dropna=False, normalize=True)"
   ]
  },
  {
   "cell_type": "code",
   "execution_count": 42,
   "id": "personal-evans",
   "metadata": {},
   "outputs": [],
   "source": [
    "df[\"source\"].str.lower().value_counts(dropna=False, normalize=True).to_csv(\"sources.csv\")"
   ]
  },
  {
   "cell_type": "markdown",
   "id": "previous-balloon",
   "metadata": {},
   "source": [
    "Again, I will apply the <1% condition"
   ]
  },
  {
   "cell_type": "code",
   "execution_count": 43,
   "id": "wound-introduction",
   "metadata": {},
   "outputs": [
    {
     "data": {
      "text/plain": [
       "twitter.com                  0.438375\n",
       "other                        0.160953\n",
       "t.me                         0.141351\n",
       "stopcorona.tn.gov.in         0.111773\n",
       "arogya.maharashtra.gov.in    0.073601\n",
       "www.wbhealth.gov.in          0.020556\n",
       "phdmah.maps.arcgis.com       0.017323\n",
       "www.deshgujarat.com          0.014079\n",
       "experience.arcgis.com        0.011943\n",
       "gujcovid19.gujarat.gov.in    0.010045\n",
       "Name: source, dtype: float64"
      ]
     },
     "execution_count": 43,
     "metadata": {},
     "output_type": "execute_result"
    }
   ],
   "source": [
    "normalised_source_vc = df[\"source\"].str.lower().value_counts(normalize=True) >= 0.01\n",
    "source_reducer = lambda row: reduce_categories(row, \"source\", normalised_source_vc, lambda b: b == True)\n",
    "df[\"source\"] = df.apply(source_reducer, axis=1)\n",
    "df[\"source\"].value_counts(normalize=True, dropna=False)"
   ]
  },
  {
   "cell_type": "code",
   "execution_count": 44,
   "id": "private-prague",
   "metadata": {},
   "outputs": [
    {
     "name": "stdout",
     "output_type": "stream",
     "text": [
      "<class 'pandas.core.frame.DataFrame'>\n",
      "Int64Index: 307114 entries, 0 to 673607\n",
      "Data columns (total 57 columns):\n",
      " #   Column                            Non-Null Count   Dtype  \n",
      "---  ------                            --------------   -----  \n",
      " 0   ID                                307114 non-null  object \n",
      " 1   age                               34188 non-null   object \n",
      " 2   sex                               37914 non-null   object \n",
      " 3   country                           307114 non-null  object \n",
      " 4   latitude                          307114 non-null  float64\n",
      " 5   longitude                         307114 non-null  float64\n",
      " 6   geo_resolution                    307114 non-null  object \n",
      " 7   date_confirmation                 307114 non-null  object \n",
      " 8   has_chronic_disease               307114 non-null  bool   \n",
      " 9   outcome                           307114 non-null  object \n",
      " 10  admin_id                          307114 non-null  float64\n",
      " 11  has_travel_history                307114 non-null  bool   \n",
      " 12  province_bihar                    307114 non-null  uint8  \n",
      " 13  province_delhi                    307114 non-null  uint8  \n",
      " 14  province_gujarat                  307114 non-null  uint8  \n",
      " 15  province_haryana                  307114 non-null  uint8  \n",
      " 16  province_jammu and kashmir        307114 non-null  uint8  \n",
      " 17  province_karnataka                307114 non-null  uint8  \n",
      " 18  province_madhya pradesh           307114 non-null  uint8  \n",
      " 19  province_maharashtra              307114 non-null  uint8  \n",
      " 20  province_metro manila             307114 non-null  uint8  \n",
      " 21  province_odisha                   307114 non-null  uint8  \n",
      " 22  province_other                    307114 non-null  uint8  \n",
      " 23  province_punjab                   307114 non-null  uint8  \n",
      " 24  province_rajasthan                307114 non-null  uint8  \n",
      " 25  province_state unassigned         307114 non-null  uint8  \n",
      " 26  province_tamil nadu               307114 non-null  uint8  \n",
      " 27  province_telangana                307114 non-null  uint8  \n",
      " 28  province_uttar pradesh            307114 non-null  uint8  \n",
      " 29  province_west bengal              307114 non-null  uint8  \n",
      " 30  province_bihar                    307114 non-null  uint8  \n",
      " 31  province_delhi                    307114 non-null  uint8  \n",
      " 32  province_gujarat                  307114 non-null  uint8  \n",
      " 33  province_haryana                  307114 non-null  uint8  \n",
      " 34  province_jammu and kashmir        307114 non-null  uint8  \n",
      " 35  province_karnataka                307114 non-null  uint8  \n",
      " 36  province_madhya pradesh           307114 non-null  uint8  \n",
      " 37  province_maharashtra              307114 non-null  uint8  \n",
      " 38  province_metro manila             307114 non-null  uint8  \n",
      " 39  province_odisha                   307114 non-null  uint8  \n",
      " 40  province_other                    307114 non-null  uint8  \n",
      " 41  province_punjab                   307114 non-null  uint8  \n",
      " 42  province_rajasthan                307114 non-null  uint8  \n",
      " 43  province_state unassigned         307114 non-null  uint8  \n",
      " 44  province_tamil nadu               307114 non-null  uint8  \n",
      " 45  province_telangana                307114 non-null  uint8  \n",
      " 46  province_uttar pradesh            307114 non-null  uint8  \n",
      " 47  province_west bengal              307114 non-null  uint8  \n",
      " 48  source_experience.arcgis.com      307114 non-null  uint8  \n",
      " 49  source_gujcovid19.gujarat.gov.in  307114 non-null  uint8  \n",
      " 50  source_other                      307114 non-null  uint8  \n",
      " 51  source_phdmah.maps.arcgis.com     307114 non-null  uint8  \n",
      " 52  source_stopcorona.tn.gov.in       307114 non-null  uint8  \n",
      " 53  source_t.me                       307114 non-null  uint8  \n",
      " 54  source_twitter.com                307114 non-null  uint8  \n",
      " 55  source_www.deshgujarat.com        307114 non-null  uint8  \n",
      " 56  source_www.wbhealth.gov.in        307114 non-null  uint8  \n",
      "dtypes: bool(2), float64(3), object(7), uint8(45)\n",
      "memory usage: 39.5+ MB\n"
     ]
    }
   ],
   "source": [
    "source_dummies = pd.get_dummies(df[\"source\"].str.lower(), prefix=\"source\", drop_first=True)\n",
    "df = pd.concat([df, source_dummies], axis=1)\n",
    "df = df.drop(\"source\", axis=1)\n",
    "df.info()"
   ]
  },
  {
   "cell_type": "markdown",
   "id": "interracial-array",
   "metadata": {},
   "source": [
    "**Things start to go downhill here I think as I just drop some columns, need to explain**\n"
   ]
  },
  {
   "cell_type": "code",
   "execution_count": 45,
   "id": "documentary-custom",
   "metadata": {},
   "outputs": [
    {
     "name": "stdout",
     "output_type": "stream",
     "text": [
      "<class 'pandas.core.frame.DataFrame'>\n",
      "Int64Index: 307114 entries, 0 to 673607\n",
      "Data columns (total 55 columns):\n",
      " #   Column                            Non-Null Count   Dtype  \n",
      "---  ------                            --------------   -----  \n",
      " 0   ID                                307114 non-null  object \n",
      " 1   age                               34188 non-null   object \n",
      " 2   sex                               37914 non-null   object \n",
      " 3   country                           307114 non-null  object \n",
      " 4   latitude                          307114 non-null  float64\n",
      " 5   longitude                         307114 non-null  float64\n",
      " 6   date_confirmation                 307114 non-null  object \n",
      " 7   has_chronic_disease               307114 non-null  bool   \n",
      " 8   outcome                           307114 non-null  object \n",
      " 9   has_travel_history                307114 non-null  bool   \n",
      " 10  province_bihar                    307114 non-null  uint8  \n",
      " 11  province_delhi                    307114 non-null  uint8  \n",
      " 12  province_gujarat                  307114 non-null  uint8  \n",
      " 13  province_haryana                  307114 non-null  uint8  \n",
      " 14  province_jammu and kashmir        307114 non-null  uint8  \n",
      " 15  province_karnataka                307114 non-null  uint8  \n",
      " 16  province_madhya pradesh           307114 non-null  uint8  \n",
      " 17  province_maharashtra              307114 non-null  uint8  \n",
      " 18  province_metro manila             307114 non-null  uint8  \n",
      " 19  province_odisha                   307114 non-null  uint8  \n",
      " 20  province_other                    307114 non-null  uint8  \n",
      " 21  province_punjab                   307114 non-null  uint8  \n",
      " 22  province_rajasthan                307114 non-null  uint8  \n",
      " 23  province_state unassigned         307114 non-null  uint8  \n",
      " 24  province_tamil nadu               307114 non-null  uint8  \n",
      " 25  province_telangana                307114 non-null  uint8  \n",
      " 26  province_uttar pradesh            307114 non-null  uint8  \n",
      " 27  province_west bengal              307114 non-null  uint8  \n",
      " 28  province_bihar                    307114 non-null  uint8  \n",
      " 29  province_delhi                    307114 non-null  uint8  \n",
      " 30  province_gujarat                  307114 non-null  uint8  \n",
      " 31  province_haryana                  307114 non-null  uint8  \n",
      " 32  province_jammu and kashmir        307114 non-null  uint8  \n",
      " 33  province_karnataka                307114 non-null  uint8  \n",
      " 34  province_madhya pradesh           307114 non-null  uint8  \n",
      " 35  province_maharashtra              307114 non-null  uint8  \n",
      " 36  province_metro manila             307114 non-null  uint8  \n",
      " 37  province_odisha                   307114 non-null  uint8  \n",
      " 38  province_other                    307114 non-null  uint8  \n",
      " 39  province_punjab                   307114 non-null  uint8  \n",
      " 40  province_rajasthan                307114 non-null  uint8  \n",
      " 41  province_state unassigned         307114 non-null  uint8  \n",
      " 42  province_tamil nadu               307114 non-null  uint8  \n",
      " 43  province_telangana                307114 non-null  uint8  \n",
      " 44  province_uttar pradesh            307114 non-null  uint8  \n",
      " 45  province_west bengal              307114 non-null  uint8  \n",
      " 46  source_experience.arcgis.com      307114 non-null  uint8  \n",
      " 47  source_gujcovid19.gujarat.gov.in  307114 non-null  uint8  \n",
      " 48  source_other                      307114 non-null  uint8  \n",
      " 49  source_phdmah.maps.arcgis.com     307114 non-null  uint8  \n",
      " 50  source_stopcorona.tn.gov.in       307114 non-null  uint8  \n",
      " 51  source_t.me                       307114 non-null  uint8  \n",
      " 52  source_twitter.com                307114 non-null  uint8  \n",
      " 53  source_www.deshgujarat.com        307114 non-null  uint8  \n",
      " 54  source_www.wbhealth.gov.in        307114 non-null  uint8  \n",
      "dtypes: bool(2), float64(2), object(6), uint8(45)\n",
      "memory usage: 34.9+ MB\n"
     ]
    }
   ],
   "source": [
    "df = df.drop([\"geo_resolution\", \"admin_id\"], axis=1)\n",
    "df.info()"
   ]
  },
  {
   "cell_type": "markdown",
   "id": "silver-fifth",
   "metadata": {},
   "source": [
    "Need to map the country to categories too"
   ]
  },
  {
   "cell_type": "code",
   "execution_count": 46,
   "id": "alone-hartford",
   "metadata": {},
   "outputs": [],
   "source": [
    "copy_df = df.copy()\n",
    "df = copy_df"
   ]
  },
  {
   "cell_type": "code",
   "execution_count": 47,
   "id": "included-patrol",
   "metadata": {},
   "outputs": [
    {
     "data": {
      "text/plain": [
       "India                       0.980525\n",
       "Philippines                 0.014666\n",
       "Ghana                       0.001231\n",
       "Nigeria                     0.000837\n",
       "China                       0.000440\n",
       "Paraguay                    0.000410\n",
       "Ethiopia                    0.000397\n",
       "Cameroon                    0.000254\n",
       "Singapore                   0.000238\n",
       "United States               0.000088\n",
       "Vietnam                     0.000085\n",
       "Zambia                      0.000072\n",
       "Australia                   0.000062\n",
       "South Korea                 0.000059\n",
       "Niger                       0.000049\n",
       "Kenya                       0.000049\n",
       "Togo                        0.000046\n",
       "Japan                       0.000039\n",
       "Tanzania                    0.000033\n",
       "Algeria                     0.000029\n",
       "Eswatini                    0.000029\n",
       "Romania                     0.000026\n",
       "Guinea                      0.000026\n",
       "Zimbabwe                    0.000023\n",
       "Mozambique                  0.000023\n",
       "Eritrea                     0.000020\n",
       "Gabon                       0.000020\n",
       "Gambia                      0.000020\n",
       "France                      0.000016\n",
       "Sudan                       0.000016\n",
       "Malaysia                    0.000016\n",
       "Canada                      0.000016\n",
       "Cabo Verde                  0.000013\n",
       "Angola                      0.000013\n",
       "Brazil                      0.000013\n",
       "Djibouti                    0.000010\n",
       "Egypt                       0.000010\n",
       "Switzerland                 0.000010\n",
       "Burkina Faso                0.000010\n",
       "Italy                       0.000010\n",
       "Germany                     0.000007\n",
       "Guinea-Bissau               0.000007\n",
       "Iran                        0.000007\n",
       "United Arab Emirates        0.000007\n",
       "Nepal                       0.000007\n",
       "Guyana                      0.000007\n",
       "Spain                       0.000007\n",
       "Cuba                        0.000003\n",
       "Bahamas                     0.000003\n",
       "Central African Republic    0.000003\n",
       "Name: country, dtype: float64"
      ]
     },
     "execution_count": 47,
     "metadata": {},
     "output_type": "execute_result"
    }
   ],
   "source": [
    "df[\"country\"].value_counts(dropna=False, normalize=True)"
   ]
  },
  {
   "cell_type": "markdown",
   "id": "electronic-radiation",
   "metadata": {},
   "source": [
    "Might as well change the country column to is_India"
   ]
  },
  {
   "cell_type": "code",
   "execution_count": 48,
   "id": "latin-lindsay",
   "metadata": {},
   "outputs": [
    {
     "name": "stdout",
     "output_type": "stream",
     "text": [
      "<class 'pandas.core.frame.DataFrame'>\n",
      "Int64Index: 307114 entries, 0 to 673607\n",
      "Data columns (total 55 columns):\n",
      " #   Column                            Non-Null Count   Dtype  \n",
      "---  ------                            --------------   -----  \n",
      " 0   ID                                307114 non-null  object \n",
      " 1   age                               34188 non-null   object \n",
      " 2   sex                               37914 non-null   object \n",
      " 3   latitude                          307114 non-null  float64\n",
      " 4   longitude                         307114 non-null  float64\n",
      " 5   date_confirmation                 307114 non-null  object \n",
      " 6   has_chronic_disease               307114 non-null  bool   \n",
      " 7   outcome                           307114 non-null  object \n",
      " 8   has_travel_history                307114 non-null  bool   \n",
      " 9   province_bihar                    307114 non-null  uint8  \n",
      " 10  province_delhi                    307114 non-null  uint8  \n",
      " 11  province_gujarat                  307114 non-null  uint8  \n",
      " 12  province_haryana                  307114 non-null  uint8  \n",
      " 13  province_jammu and kashmir        307114 non-null  uint8  \n",
      " 14  province_karnataka                307114 non-null  uint8  \n",
      " 15  province_madhya pradesh           307114 non-null  uint8  \n",
      " 16  province_maharashtra              307114 non-null  uint8  \n",
      " 17  province_metro manila             307114 non-null  uint8  \n",
      " 18  province_odisha                   307114 non-null  uint8  \n",
      " 19  province_other                    307114 non-null  uint8  \n",
      " 20  province_punjab                   307114 non-null  uint8  \n",
      " 21  province_rajasthan                307114 non-null  uint8  \n",
      " 22  province_state unassigned         307114 non-null  uint8  \n",
      " 23  province_tamil nadu               307114 non-null  uint8  \n",
      " 24  province_telangana                307114 non-null  uint8  \n",
      " 25  province_uttar pradesh            307114 non-null  uint8  \n",
      " 26  province_west bengal              307114 non-null  uint8  \n",
      " 27  province_bihar                    307114 non-null  uint8  \n",
      " 28  province_delhi                    307114 non-null  uint8  \n",
      " 29  province_gujarat                  307114 non-null  uint8  \n",
      " 30  province_haryana                  307114 non-null  uint8  \n",
      " 31  province_jammu and kashmir        307114 non-null  uint8  \n",
      " 32  province_karnataka                307114 non-null  uint8  \n",
      " 33  province_madhya pradesh           307114 non-null  uint8  \n",
      " 34  province_maharashtra              307114 non-null  uint8  \n",
      " 35  province_metro manila             307114 non-null  uint8  \n",
      " 36  province_odisha                   307114 non-null  uint8  \n",
      " 37  province_other                    307114 non-null  uint8  \n",
      " 38  province_punjab                   307114 non-null  uint8  \n",
      " 39  province_rajasthan                307114 non-null  uint8  \n",
      " 40  province_state unassigned         307114 non-null  uint8  \n",
      " 41  province_tamil nadu               307114 non-null  uint8  \n",
      " 42  province_telangana                307114 non-null  uint8  \n",
      " 43  province_uttar pradesh            307114 non-null  uint8  \n",
      " 44  province_west bengal              307114 non-null  uint8  \n",
      " 45  source_experience.arcgis.com      307114 non-null  uint8  \n",
      " 46  source_gujcovid19.gujarat.gov.in  307114 non-null  uint8  \n",
      " 47  source_other                      307114 non-null  uint8  \n",
      " 48  source_phdmah.maps.arcgis.com     307114 non-null  uint8  \n",
      " 49  source_stopcorona.tn.gov.in       307114 non-null  uint8  \n",
      " 50  source_t.me                       307114 non-null  uint8  \n",
      " 51  source_twitter.com                307114 non-null  uint8  \n",
      " 52  source_www.deshgujarat.com        307114 non-null  uint8  \n",
      " 53  source_www.wbhealth.gov.in        307114 non-null  uint8  \n",
      " 54  is_india                          307114 non-null  bool   \n",
      "dtypes: bool(3), float64(2), object(5), uint8(45)\n",
      "memory usage: 32.8+ MB\n"
     ]
    }
   ],
   "source": [
    "import numpy as np\n",
    "\n",
    "df[\"is_india\"] = np.where(df[\"country\"].str.lower() == \"india\", True, False)\n",
    "df = df.drop(\"country\", axis=1)\n",
    "df.info()"
   ]
  },
  {
   "cell_type": "markdown",
   "id": "beautiful-killing",
   "metadata": {},
   "source": [
    "Now I need to sort out the outcome"
   ]
  },
  {
   "cell_type": "code",
   "execution_count": 49,
   "id": "collectible-sullivan",
   "metadata": {},
   "outputs": [
    {
     "name": "stderr",
     "output_type": "stream",
     "text": [
      "C:\\Python38\\lib\\site-packages\\pandas\\core\\indexing.py:1745: SettingWithCopyWarning: \n",
      "A value is trying to be set on a copy of a slice from a DataFrame.\n",
      "Try using .loc[row_indexer,col_indexer] = value instead\n",
      "\n",
      "See the caveats in the documentation: https://pandas.pydata.org/pandas-docs/stable/user_guide/indexing.html#returning-a-view-versus-a-copy\n",
      "  isetter(ilocs[0], value)\n"
     ]
    },
    {
     "data": {
      "text/plain": [
       "array(['critical condition, intubated as of 14.02.2020', 'discharge',\n",
       "       'discharged', 'death', 'recovered', 'released from quarantine',\n",
       "       'stable', 'died',\n",
       "       'symptoms only improved with cough. currently hospitalized for follow-up.',\n",
       "       'alive', 'dead', 'deceased', 'stable condition', 'under treatment',\n",
       "       'critical condition', 'receiving treatment', 'severe illness',\n",
       "       'unstable', 'hospitalized',\n",
       "       'treated in an intensive care unit (14.02.2020)', 'severe',\n",
       "       'migrated', 'migrated_other',\n",
       "       'https://www.mspbs.gov.py/covid-19.php',\n",
       "       'discharged from hospital', 'not hospitalized',\n",
       "       'recovering at home 03.03.2020'], dtype=object)"
      ]
     },
     "execution_count": 49,
     "metadata": {},
     "output_type": "execute_result"
    }
   ],
   "source": [
    "# Have to use strange syntax here see https://stackoverflow.com/questions/42750551/converting-strings-to-a-lower-case-in-pandas\n",
    "df.loc[:, \"outcome\"] = df.loc[:, \"outcome\"].str.lower()\n",
    "df[\"outcome\"].unique()"
   ]
  },
  {
   "cell_type": "code",
   "execution_count": 50,
   "id": "quarterly-tanzania",
   "metadata": {},
   "outputs": [
    {
     "data": {
      "text/plain": [
       "hospitalized                                                                202475\n",
       "recovered                                                                    97313\n",
       "deceased                                                                      5010\n",
       "died                                                                           857\n",
       "under treatment                                                                370\n",
       "receiving treatment                                                            257\n",
       "alive                                                                          186\n",
       "stable condition                                                               133\n",
       "https://www.mspbs.gov.py/covid-19.php                                          126\n",
       "discharge                                                                      121\n",
       "stable                                                                          96\n",
       "discharged                                                                      90\n",
       "death                                                                           35\n",
       "dead                                                                            15\n",
       "migrated_other                                                                   8\n",
       "migrated                                                                         5\n",
       "released from quarantine                                                         3\n",
       "symptoms only improved with cough. currently hospitalized for follow-up.         2\n",
       "critical condition                                                               2\n",
       "critical condition, intubated as of 14.02.2020                                   2\n",
       "discharged from hospital                                                         2\n",
       "treated in an intensive care unit (14.02.2020)                                   1\n",
       "severe illness                                                                   1\n",
       "not hospitalized                                                                 1\n",
       "severe                                                                           1\n",
       "unstable                                                                         1\n",
       "recovering at home 03.03.2020                                                    1\n",
       "Name: outcome, dtype: int64"
      ]
     },
     "execution_count": 50,
     "metadata": {},
     "output_type": "execute_result"
    }
   ],
   "source": [
    "df[\"outcome\"].value_counts()"
   ]
  },
  {
   "cell_type": "markdown",
   "id": "adult-jewelry",
   "metadata": {},
   "source": [
    "There is one value that gives no information and that is 'https://www.mspbs.gov.py/covid-19.php'"
   ]
  },
  {
   "cell_type": "code",
   "execution_count": 51,
   "id": "universal-translator",
   "metadata": {},
   "outputs": [],
   "source": [
    "df = df[df[\"outcome\"] != \"https://www.mspbs.gov.py/covid-19.php\"]"
   ]
  },
  {
   "cell_type": "code",
   "execution_count": 52,
   "id": "blond-worcester",
   "metadata": {},
   "outputs": [
    {
     "data": {
      "text/plain": [
       "hospitalized                                                                202475\n",
       "recovered                                                                    97313\n",
       "deceased                                                                      5010\n",
       "died                                                                           857\n",
       "under treatment                                                                370\n",
       "receiving treatment                                                            257\n",
       "alive                                                                          186\n",
       "stable condition                                                               133\n",
       "discharge                                                                      121\n",
       "stable                                                                          96\n",
       "discharged                                                                      90\n",
       "death                                                                           35\n",
       "dead                                                                            15\n",
       "migrated_other                                                                   8\n",
       "migrated                                                                         5\n",
       "released from quarantine                                                         3\n",
       "symptoms only improved with cough. currently hospitalized for follow-up.         2\n",
       "critical condition                                                               2\n",
       "critical condition, intubated as of 14.02.2020                                   2\n",
       "discharged from hospital                                                         2\n",
       "severe illness                                                                   1\n",
       "treated in an intensive care unit (14.02.2020)                                   1\n",
       "not hospitalized                                                                 1\n",
       "severe                                                                           1\n",
       "unstable                                                                         1\n",
       "recovering at home 03.03.2020                                                    1\n",
       "Name: outcome, dtype: int64"
      ]
     },
     "execution_count": 52,
     "metadata": {},
     "output_type": "execute_result"
    }
   ],
   "source": [
    "df[\"outcome\"].value_counts()"
   ]
  },
  {
   "cell_type": "markdown",
   "id": "incomplete-american",
   "metadata": {},
   "source": [
    "It is unclear if hospitialized means that they survived the hospitialisation or not. I'm going to make the assumption it does for now but this could be another bit I need to change"
   ]
  },
  {
   "cell_type": "code",
   "execution_count": 53,
   "id": "commercial-transsexual",
   "metadata": {},
   "outputs": [],
   "source": [
    "copy_df = df.copy()"
   ]
  },
  {
   "cell_type": "code",
   "execution_count": 54,
   "id": "advanced-journal",
   "metadata": {},
   "outputs": [],
   "source": [
    "df = copy_df.copy()"
   ]
  },
  {
   "cell_type": "code",
   "execution_count": 55,
   "id": "proof-compensation",
   "metadata": {},
   "outputs": [
    {
     "data": {
      "text/plain": [
       "True     0.980726\n",
       "False    0.019274\n",
       "Name: has_survived, dtype: float64"
      ]
     },
     "execution_count": 55,
     "metadata": {},
     "output_type": "execute_result"
    }
   ],
   "source": [
    "survive_map = {\n",
    "    \"critical condition, intubated as of 14.02.2020\": True,\n",
    "    \"discharge\": True,\n",
    "    \"discharged\": True,\n",
    "    'death': False,\n",
    "    'recovered': True,\n",
    "    'released from quarantine': True,\n",
    "    'stable': True,\n",
    "    'died': False,\n",
    "    'symptoms only improved with cough. currently hospitalized for follow-up.': True,\n",
    "    'alive': True,\n",
    "    'dead': False,\n",
    "    'deceased': False,\n",
    "    'stable condition': True,\n",
    "    'under treatment': True,\n",
    "    'critical condition': True,\n",
    "    'receiving treatment': True,\n",
    "    'severe illness': True,\n",
    "    'unstable': True,\n",
    "    'hospitalized': True,\n",
    "    'treated in an intensive care unit (14.02.2020)': True,\n",
    "    'severe': True,\n",
    "    'migrated': True,\n",
    "    'migrated_other': True,\n",
    "    'discharged from hospital': True,\n",
    "    'not hospitalized': True,\n",
    "    'recovering at home 03.03.2020': True\n",
    "}\n",
    "\n",
    "df[\"has_survived\"] = df[\"outcome\"].map(survive_map)\n",
    "df[\"has_survived\"].value_counts(dropna=False, normalize=True)"
   ]
  },
  {
   "cell_type": "code",
   "execution_count": 56,
   "id": "conditional-clearance",
   "metadata": {},
   "outputs": [],
   "source": [
    "df = df.drop(\"outcome\", axis=1)"
   ]
  },
  {
   "cell_type": "code",
   "execution_count": 57,
   "id": "israeli-article",
   "metadata": {},
   "outputs": [
    {
     "name": "stdout",
     "output_type": "stream",
     "text": [
      "<class 'pandas.core.frame.DataFrame'>\n",
      "Int64Index: 306988 entries, 0 to 673607\n",
      "Data columns (total 55 columns):\n",
      " #   Column                            Non-Null Count   Dtype  \n",
      "---  ------                            --------------   -----  \n",
      " 0   ID                                306988 non-null  object \n",
      " 1   age                               34188 non-null   object \n",
      " 2   sex                               37914 non-null   object \n",
      " 3   latitude                          306988 non-null  float64\n",
      " 4   longitude                         306988 non-null  float64\n",
      " 5   date_confirmation                 306988 non-null  object \n",
      " 6   has_chronic_disease               306988 non-null  bool   \n",
      " 7   has_travel_history                306988 non-null  bool   \n",
      " 8   province_bihar                    306988 non-null  uint8  \n",
      " 9   province_delhi                    306988 non-null  uint8  \n",
      " 10  province_gujarat                  306988 non-null  uint8  \n",
      " 11  province_haryana                  306988 non-null  uint8  \n",
      " 12  province_jammu and kashmir        306988 non-null  uint8  \n",
      " 13  province_karnataka                306988 non-null  uint8  \n",
      " 14  province_madhya pradesh           306988 non-null  uint8  \n",
      " 15  province_maharashtra              306988 non-null  uint8  \n",
      " 16  province_metro manila             306988 non-null  uint8  \n",
      " 17  province_odisha                   306988 non-null  uint8  \n",
      " 18  province_other                    306988 non-null  uint8  \n",
      " 19  province_punjab                   306988 non-null  uint8  \n",
      " 20  province_rajasthan                306988 non-null  uint8  \n",
      " 21  province_state unassigned         306988 non-null  uint8  \n",
      " 22  province_tamil nadu               306988 non-null  uint8  \n",
      " 23  province_telangana                306988 non-null  uint8  \n",
      " 24  province_uttar pradesh            306988 non-null  uint8  \n",
      " 25  province_west bengal              306988 non-null  uint8  \n",
      " 26  province_bihar                    306988 non-null  uint8  \n",
      " 27  province_delhi                    306988 non-null  uint8  \n",
      " 28  province_gujarat                  306988 non-null  uint8  \n",
      " 29  province_haryana                  306988 non-null  uint8  \n",
      " 30  province_jammu and kashmir        306988 non-null  uint8  \n",
      " 31  province_karnataka                306988 non-null  uint8  \n",
      " 32  province_madhya pradesh           306988 non-null  uint8  \n",
      " 33  province_maharashtra              306988 non-null  uint8  \n",
      " 34  province_metro manila             306988 non-null  uint8  \n",
      " 35  province_odisha                   306988 non-null  uint8  \n",
      " 36  province_other                    306988 non-null  uint8  \n",
      " 37  province_punjab                   306988 non-null  uint8  \n",
      " 38  province_rajasthan                306988 non-null  uint8  \n",
      " 39  province_state unassigned         306988 non-null  uint8  \n",
      " 40  province_tamil nadu               306988 non-null  uint8  \n",
      " 41  province_telangana                306988 non-null  uint8  \n",
      " 42  province_uttar pradesh            306988 non-null  uint8  \n",
      " 43  province_west bengal              306988 non-null  uint8  \n",
      " 44  source_experience.arcgis.com      306988 non-null  uint8  \n",
      " 45  source_gujcovid19.gujarat.gov.in  306988 non-null  uint8  \n",
      " 46  source_other                      306988 non-null  uint8  \n",
      " 47  source_phdmah.maps.arcgis.com     306988 non-null  uint8  \n",
      " 48  source_stopcorona.tn.gov.in       306988 non-null  uint8  \n",
      " 49  source_t.me                       306988 non-null  uint8  \n",
      " 50  source_twitter.com                306988 non-null  uint8  \n",
      " 51  source_www.deshgujarat.com        306988 non-null  uint8  \n",
      " 52  source_www.wbhealth.gov.in        306988 non-null  uint8  \n",
      " 53  is_india                          306988 non-null  bool   \n",
      " 54  has_survived                      306988 non-null  bool   \n",
      "dtypes: bool(4), float64(2), object(4), uint8(45)\n",
      "memory usage: 30.7+ MB\n"
     ]
    }
   ],
   "source": [
    "df.info()"
   ]
  },
  {
   "cell_type": "markdown",
   "id": "serial-order",
   "metadata": {},
   "source": [
    "Now I will map the date_confirmation feature to a datetime type with an ordinal ordering"
   ]
  },
  {
   "cell_type": "code",
   "execution_count": 58,
   "id": "discrete-bacteria",
   "metadata": {},
   "outputs": [
    {
     "name": "stdout",
     "output_type": "stream",
     "text": [
      "<class 'pandas.core.frame.DataFrame'>\n",
      "Int64Index: 306988 entries, 0 to 673607\n",
      "Data columns (total 55 columns):\n",
      " #   Column                            Non-Null Count   Dtype  \n",
      "---  ------                            --------------   -----  \n",
      " 0   ID                                306988 non-null  object \n",
      " 1   age                               34188 non-null   object \n",
      " 2   sex                               37914 non-null   object \n",
      " 3   latitude                          306988 non-null  float64\n",
      " 4   longitude                         306988 non-null  float64\n",
      " 5   date_confirmation                 306988 non-null  int64  \n",
      " 6   has_chronic_disease               306988 non-null  bool   \n",
      " 7   has_travel_history                306988 non-null  bool   \n",
      " 8   province_bihar                    306988 non-null  uint8  \n",
      " 9   province_delhi                    306988 non-null  uint8  \n",
      " 10  province_gujarat                  306988 non-null  uint8  \n",
      " 11  province_haryana                  306988 non-null  uint8  \n",
      " 12  province_jammu and kashmir        306988 non-null  uint8  \n",
      " 13  province_karnataka                306988 non-null  uint8  \n",
      " 14  province_madhya pradesh           306988 non-null  uint8  \n",
      " 15  province_maharashtra              306988 non-null  uint8  \n",
      " 16  province_metro manila             306988 non-null  uint8  \n",
      " 17  province_odisha                   306988 non-null  uint8  \n",
      " 18  province_other                    306988 non-null  uint8  \n",
      " 19  province_punjab                   306988 non-null  uint8  \n",
      " 20  province_rajasthan                306988 non-null  uint8  \n",
      " 21  province_state unassigned         306988 non-null  uint8  \n",
      " 22  province_tamil nadu               306988 non-null  uint8  \n",
      " 23  province_telangana                306988 non-null  uint8  \n",
      " 24  province_uttar pradesh            306988 non-null  uint8  \n",
      " 25  province_west bengal              306988 non-null  uint8  \n",
      " 26  province_bihar                    306988 non-null  uint8  \n",
      " 27  province_delhi                    306988 non-null  uint8  \n",
      " 28  province_gujarat                  306988 non-null  uint8  \n",
      " 29  province_haryana                  306988 non-null  uint8  \n",
      " 30  province_jammu and kashmir        306988 non-null  uint8  \n",
      " 31  province_karnataka                306988 non-null  uint8  \n",
      " 32  province_madhya pradesh           306988 non-null  uint8  \n",
      " 33  province_maharashtra              306988 non-null  uint8  \n",
      " 34  province_metro manila             306988 non-null  uint8  \n",
      " 35  province_odisha                   306988 non-null  uint8  \n",
      " 36  province_other                    306988 non-null  uint8  \n",
      " 37  province_punjab                   306988 non-null  uint8  \n",
      " 38  province_rajasthan                306988 non-null  uint8  \n",
      " 39  province_state unassigned         306988 non-null  uint8  \n",
      " 40  province_tamil nadu               306988 non-null  uint8  \n",
      " 41  province_telangana                306988 non-null  uint8  \n",
      " 42  province_uttar pradesh            306988 non-null  uint8  \n",
      " 43  province_west bengal              306988 non-null  uint8  \n",
      " 44  source_experience.arcgis.com      306988 non-null  uint8  \n",
      " 45  source_gujcovid19.gujarat.gov.in  306988 non-null  uint8  \n",
      " 46  source_other                      306988 non-null  uint8  \n",
      " 47  source_phdmah.maps.arcgis.com     306988 non-null  uint8  \n",
      " 48  source_stopcorona.tn.gov.in       306988 non-null  uint8  \n",
      " 49  source_t.me                       306988 non-null  uint8  \n",
      " 50  source_twitter.com                306988 non-null  uint8  \n",
      " 51  source_www.deshgujarat.com        306988 non-null  uint8  \n",
      " 52  source_www.wbhealth.gov.in        306988 non-null  uint8  \n",
      " 53  is_india                          306988 non-null  bool   \n",
      " 54  has_survived                      306988 non-null  bool   \n",
      "dtypes: bool(4), float64(2), int64(1), object(3), uint8(45)\n",
      "memory usage: 30.7+ MB\n"
     ]
    }
   ],
   "source": [
    "import datetime as dt\n",
    "df[\"date_confirmation\"] = pd.to_datetime(df[\"date_confirmation\"], format=\"%d.%m.%Y\").map(dt.datetime.toordinal)\n",
    "df.info()"
   ]
  },
  {
   "cell_type": "markdown",
   "id": "thorough-addiction",
   "metadata": {},
   "source": [
    "This leaves age and sex to resolve. I want to put the age into categories such as 0-9, 10-19, 20-29, ..., 80+. This is an ordinal ordering. However, we also have a major issue in that very few rows containing age and sex. Lets look at precisely how many records that will be:"
   ]
  },
  {
   "cell_type": "code",
   "execution_count": 59,
   "id": "smooth-edgar",
   "metadata": {},
   "outputs": [
    {
     "name": "stdout",
     "output_type": "stream",
     "text": [
      "<class 'pandas.core.frame.DataFrame'>\n",
      "Int64Index: 33401 entries, 1113 to 673607\n",
      "Data columns (total 55 columns):\n",
      " #   Column                            Non-Null Count  Dtype  \n",
      "---  ------                            --------------  -----  \n",
      " 0   ID                                33401 non-null  object \n",
      " 1   age                               33401 non-null  object \n",
      " 2   sex                               33401 non-null  object \n",
      " 3   latitude                          33401 non-null  float64\n",
      " 4   longitude                         33401 non-null  float64\n",
      " 5   date_confirmation                 33401 non-null  int64  \n",
      " 6   has_chronic_disease               33401 non-null  bool   \n",
      " 7   has_travel_history                33401 non-null  bool   \n",
      " 8   province_bihar                    33401 non-null  uint8  \n",
      " 9   province_delhi                    33401 non-null  uint8  \n",
      " 10  province_gujarat                  33401 non-null  uint8  \n",
      " 11  province_haryana                  33401 non-null  uint8  \n",
      " 12  province_jammu and kashmir        33401 non-null  uint8  \n",
      " 13  province_karnataka                33401 non-null  uint8  \n",
      " 14  province_madhya pradesh           33401 non-null  uint8  \n",
      " 15  province_maharashtra              33401 non-null  uint8  \n",
      " 16  province_metro manila             33401 non-null  uint8  \n",
      " 17  province_odisha                   33401 non-null  uint8  \n",
      " 18  province_other                    33401 non-null  uint8  \n",
      " 19  province_punjab                   33401 non-null  uint8  \n",
      " 20  province_rajasthan                33401 non-null  uint8  \n",
      " 21  province_state unassigned         33401 non-null  uint8  \n",
      " 22  province_tamil nadu               33401 non-null  uint8  \n",
      " 23  province_telangana                33401 non-null  uint8  \n",
      " 24  province_uttar pradesh            33401 non-null  uint8  \n",
      " 25  province_west bengal              33401 non-null  uint8  \n",
      " 26  province_bihar                    33401 non-null  uint8  \n",
      " 27  province_delhi                    33401 non-null  uint8  \n",
      " 28  province_gujarat                  33401 non-null  uint8  \n",
      " 29  province_haryana                  33401 non-null  uint8  \n",
      " 30  province_jammu and kashmir        33401 non-null  uint8  \n",
      " 31  province_karnataka                33401 non-null  uint8  \n",
      " 32  province_madhya pradesh           33401 non-null  uint8  \n",
      " 33  province_maharashtra              33401 non-null  uint8  \n",
      " 34  province_metro manila             33401 non-null  uint8  \n",
      " 35  province_odisha                   33401 non-null  uint8  \n",
      " 36  province_other                    33401 non-null  uint8  \n",
      " 37  province_punjab                   33401 non-null  uint8  \n",
      " 38  province_rajasthan                33401 non-null  uint8  \n",
      " 39  province_state unassigned         33401 non-null  uint8  \n",
      " 40  province_tamil nadu               33401 non-null  uint8  \n",
      " 41  province_telangana                33401 non-null  uint8  \n",
      " 42  province_uttar pradesh            33401 non-null  uint8  \n",
      " 43  province_west bengal              33401 non-null  uint8  \n",
      " 44  source_experience.arcgis.com      33401 non-null  uint8  \n",
      " 45  source_gujcovid19.gujarat.gov.in  33401 non-null  uint8  \n",
      " 46  source_other                      33401 non-null  uint8  \n",
      " 47  source_phdmah.maps.arcgis.com     33401 non-null  uint8  \n",
      " 48  source_stopcorona.tn.gov.in       33401 non-null  uint8  \n",
      " 49  source_t.me                       33401 non-null  uint8  \n",
      " 50  source_twitter.com                33401 non-null  uint8  \n",
      " 51  source_www.deshgujarat.com        33401 non-null  uint8  \n",
      " 52  source_www.wbhealth.gov.in        33401 non-null  uint8  \n",
      " 53  is_india                          33401 non-null  bool   \n",
      " 54  has_survived                      33401 non-null  bool   \n",
      "dtypes: bool(4), float64(2), int64(1), object(3), uint8(45)\n",
      "memory usage: 3.3+ MB\n"
     ]
    }
   ],
   "source": [
    "age_and_sex_records = df[(df[\"age\"].notna()) & (df[\"sex\"].notna())]\n",
    "age_and_sex_records.info()"
   ]
  },
  {
   "cell_type": "code",
   "execution_count": 60,
   "id": "following-genetics",
   "metadata": {},
   "outputs": [],
   "source": [
    "copy_df = df.copy()"
   ]
  },
  {
   "cell_type": "markdown",
   "id": "subjective-scotland",
   "metadata": {},
   "source": [
    "This reduces the dataset to ~10% of what we had. I'm going to take it as it is for now but we could try and impute these values instead but we'll experiment with that. First, lets deal with sex:"
   ]
  },
  {
   "cell_type": "code",
   "execution_count": 61,
   "id": "enormous-cambridge",
   "metadata": {},
   "outputs": [
    {
     "data": {
      "text/plain": [
       "male      21287\n",
       "female    12114\n",
       "Name: sex, dtype: int64"
      ]
     },
     "execution_count": 61,
     "metadata": {},
     "output_type": "execute_result"
    }
   ],
   "source": [
    "df = df[(df[\"age\"].notna()) & (df[\"sex\"].notna())]\n",
    "df[\"sex\"].value_counts(dropna=False)"
   ]
  },
  {
   "cell_type": "markdown",
   "id": "divine-circus",
   "metadata": {},
   "source": [
    "We have no null values but this is clearly lends itself to a boolean so lets create it:"
   ]
  },
  {
   "cell_type": "code",
   "execution_count": 62,
   "id": "speaking-treasury",
   "metadata": {},
   "outputs": [
    {
     "data": {
      "text/plain": [
       "True     21287\n",
       "False    12114\n",
       "Name: is_male, dtype: int64"
      ]
     },
     "execution_count": 62,
     "metadata": {},
     "output_type": "execute_result"
    }
   ],
   "source": [
    "df[\"is_male\"] = np.where(df[\"sex\"].str.lower() == \"male\", True, False)\n",
    "df = df.drop(\"sex\", axis=1)\n",
    "df[\"is_male\"].value_counts(dropna=False)"
   ]
  },
  {
   "cell_type": "markdown",
   "id": "surprising-disaster",
   "metadata": {},
   "source": [
    "This finally leaves age to clean"
   ]
  },
  {
   "cell_type": "code",
   "execution_count": 63,
   "id": "accompanied-allowance",
   "metadata": {},
   "outputs": [
    {
     "data": {
      "text/plain": [
       "array(['1', '32', '22', '68', '44', '39', '46', '27', '40', '30', '66',\n",
       "       '50-59', '42', '38', '7', '60', '63', '80-89', '33', '79', '9',\n",
       "       '31', '20-29', '52', '50', '47', '65', '21', '23', '45', '25', '4',\n",
       "       '40-49', '61', '29', '55', '28', '49', '56', '73', '8', '16', '37',\n",
       "       '53', '2', '34', '36', '51', '57', '62', '20', '69', '54', '41',\n",
       "       '43', '74', '78', '75', '59', '18', '15', '24', '17', '19', '14',\n",
       "       '26', '84', '70', '77', '85', '35', '71', '48', '0.75', '76', '13',\n",
       "       '11', '91', '67', '82', '72', '64', '90', '0', '81', '58', '80',\n",
       "       '83', '6', '3', '99', '87', '10', '89', '0.25', '70-79', '12',\n",
       "       '95', '86', '88', '96', '28-35', '92', '5', '1.5', '0.4', '0.3',\n",
       "       '98', '94', '2.5', '0.2', '0.7', '29.6', '0.1', '3.5', '0.5', '93',\n",
       "       '0.9', '54.9', '97', '0.6', '101', '90-99', '60-69', '80-'],\n",
       "      dtype=object)"
      ]
     },
     "execution_count": 63,
     "metadata": {},
     "output_type": "execute_result"
    }
   ],
   "source": [
    "df[\"age\"].unique()"
   ]
  },
  {
   "cell_type": "markdown",
   "id": "accessible-attendance",
   "metadata": {},
   "source": [
    "So there are fractional ages as well as ranges. First, lets convert them all to single integers"
   ]
  },
  {
   "cell_type": "code",
   "execution_count": 64,
   "id": "conventional-dayton",
   "metadata": {},
   "outputs": [],
   "source": [
    "import math\n",
    "\n",
    "def fix_age_ranges_and_fractions(row):\n",
    "    if pd.isna(row[\"age\"]):\n",
    "        return row[\"age\"]\n",
    "\n",
    "    str_age = str(row[\"age\"])\n",
    "    int_age = -1\n",
    "\n",
    "    if \"-\" in str_age:\n",
    "        splits = str_age.split(\"-\")\n",
    "\n",
    "        if len(splits) == 1:\n",
    "            int_age = int(float(splits[0]))\n",
    "        else:\n",
    "            str_lower, str_upper = splits\n",
    "            if str_upper != \"\":\n",
    "                int_age = (int(float(splits[0])) + int(float(splits[1]))) // 2\n",
    "            else:\n",
    "                int_age = int(float(splits[0]))\n",
    "    else:\n",
    "        # floor the age if someone is 18.9 years we say they are 18 years not 19\n",
    "        int_age = math.floor(float(str_age))\n",
    "\n",
    "    return int_age\n",
    "\n",
    "df[\"age\"].value_counts(normalize=True)\n",
    "df[\"age\"] = df.apply(fix_age_ranges_and_fractions, axis=1)"
   ]
  },
  {
   "cell_type": "code",
   "execution_count": 65,
   "id": "periodic-jimmy",
   "metadata": {},
   "outputs": [
    {
     "data": {
      "text/plain": [
       "30     0.033712\n",
       "25     0.028113\n",
       "32     0.027604\n",
       "35     0.027544\n",
       "40     0.027275\n",
       "         ...   \n",
       "98     0.000060\n",
       "96     0.000060\n",
       "93     0.000060\n",
       "99     0.000060\n",
       "101    0.000030\n",
       "Name: age, Length: 101, dtype: float64"
      ]
     },
     "execution_count": 65,
     "metadata": {},
     "output_type": "execute_result"
    }
   ],
   "source": [
    "df[\"age\"].value_counts(normalize=True)"
   ]
  },
  {
   "cell_type": "markdown",
   "id": "distinguished-virgin",
   "metadata": {},
   "source": [
    "Now map them to categories instead"
   ]
  },
  {
   "cell_type": "code",
   "execution_count": 66,
   "id": "fifteen-cowboy",
   "metadata": {},
   "outputs": [
    {
     "data": {
      "text/plain": [
       "2    7599\n",
       "3    7515\n",
       "4    5636\n",
       "5    4323\n",
       "1    2729\n",
       "6    2630\n",
       "0    1409\n",
       "7    1154\n",
       "8     406\n",
       "Name: age_category, dtype: int64"
      ]
     },
     "execution_count": 66,
     "metadata": {},
     "output_type": "execute_result"
    }
   ],
   "source": [
    "def map_age_categories(row):\n",
    "    age = row[\"age\"]\n",
    "    numeric_ord_map = age // 10\n",
    "    \n",
    "    if numeric_ord_map > 8:\n",
    "        return 8\n",
    "    \n",
    "    return numeric_ord_map\n",
    "\n",
    "df[\"age_category\"] = df.apply(map_age_categories, axis=1)\n",
    "df[\"age_category\"].value_counts(dropna=False)"
   ]
  },
  {
   "cell_type": "code",
   "execution_count": 67,
   "id": "hundred-removal",
   "metadata": {},
   "outputs": [],
   "source": [
    "df = df.drop(\"age\", axis=1)"
   ]
  },
  {
   "cell_type": "code",
   "execution_count": 68,
   "id": "sixth-durham",
   "metadata": {},
   "outputs": [
    {
     "name": "stdout",
     "output_type": "stream",
     "text": [
      "<class 'pandas.core.frame.DataFrame'>\n",
      "Int64Index: 33401 entries, 1113 to 673607\n",
      "Data columns (total 55 columns):\n",
      " #   Column                            Non-Null Count  Dtype  \n",
      "---  ------                            --------------  -----  \n",
      " 0   ID                                33401 non-null  object \n",
      " 1   latitude                          33401 non-null  float64\n",
      " 2   longitude                         33401 non-null  float64\n",
      " 3   date_confirmation                 33401 non-null  int64  \n",
      " 4   has_chronic_disease               33401 non-null  bool   \n",
      " 5   has_travel_history                33401 non-null  bool   \n",
      " 6   province_bihar                    33401 non-null  uint8  \n",
      " 7   province_delhi                    33401 non-null  uint8  \n",
      " 8   province_gujarat                  33401 non-null  uint8  \n",
      " 9   province_haryana                  33401 non-null  uint8  \n",
      " 10  province_jammu and kashmir        33401 non-null  uint8  \n",
      " 11  province_karnataka                33401 non-null  uint8  \n",
      " 12  province_madhya pradesh           33401 non-null  uint8  \n",
      " 13  province_maharashtra              33401 non-null  uint8  \n",
      " 14  province_metro manila             33401 non-null  uint8  \n",
      " 15  province_odisha                   33401 non-null  uint8  \n",
      " 16  province_other                    33401 non-null  uint8  \n",
      " 17  province_punjab                   33401 non-null  uint8  \n",
      " 18  province_rajasthan                33401 non-null  uint8  \n",
      " 19  province_state unassigned         33401 non-null  uint8  \n",
      " 20  province_tamil nadu               33401 non-null  uint8  \n",
      " 21  province_telangana                33401 non-null  uint8  \n",
      " 22  province_uttar pradesh            33401 non-null  uint8  \n",
      " 23  province_west bengal              33401 non-null  uint8  \n",
      " 24  province_bihar                    33401 non-null  uint8  \n",
      " 25  province_delhi                    33401 non-null  uint8  \n",
      " 26  province_gujarat                  33401 non-null  uint8  \n",
      " 27  province_haryana                  33401 non-null  uint8  \n",
      " 28  province_jammu and kashmir        33401 non-null  uint8  \n",
      " 29  province_karnataka                33401 non-null  uint8  \n",
      " 30  province_madhya pradesh           33401 non-null  uint8  \n",
      " 31  province_maharashtra              33401 non-null  uint8  \n",
      " 32  province_metro manila             33401 non-null  uint8  \n",
      " 33  province_odisha                   33401 non-null  uint8  \n",
      " 34  province_other                    33401 non-null  uint8  \n",
      " 35  province_punjab                   33401 non-null  uint8  \n",
      " 36  province_rajasthan                33401 non-null  uint8  \n",
      " 37  province_state unassigned         33401 non-null  uint8  \n",
      " 38  province_tamil nadu               33401 non-null  uint8  \n",
      " 39  province_telangana                33401 non-null  uint8  \n",
      " 40  province_uttar pradesh            33401 non-null  uint8  \n",
      " 41  province_west bengal              33401 non-null  uint8  \n",
      " 42  source_experience.arcgis.com      33401 non-null  uint8  \n",
      " 43  source_gujcovid19.gujarat.gov.in  33401 non-null  uint8  \n",
      " 44  source_other                      33401 non-null  uint8  \n",
      " 45  source_phdmah.maps.arcgis.com     33401 non-null  uint8  \n",
      " 46  source_stopcorona.tn.gov.in       33401 non-null  uint8  \n",
      " 47  source_t.me                       33401 non-null  uint8  \n",
      " 48  source_twitter.com                33401 non-null  uint8  \n",
      " 49  source_www.deshgujarat.com        33401 non-null  uint8  \n",
      " 50  source_www.wbhealth.gov.in        33401 non-null  uint8  \n",
      " 51  is_india                          33401 non-null  bool   \n",
      " 52  has_survived                      33401 non-null  bool   \n",
      " 53  is_male                           33401 non-null  bool   \n",
      " 54  age_category                      33401 non-null  int64  \n",
      "dtypes: bool(5), float64(2), int64(2), object(1), uint8(45)\n",
      "memory usage: 3.1+ MB\n"
     ]
    }
   ],
   "source": [
    "df.info()"
   ]
  },
  {
   "cell_type": "markdown",
   "id": "endangered-michael",
   "metadata": {},
   "source": [
    "Finally, remove the ID and save this to a CSV. This will form the dataset for the models!"
   ]
  },
  {
   "cell_type": "code",
   "execution_count": 69,
   "id": "impossible-question",
   "metadata": {},
   "outputs": [],
   "source": [
    "df = df.drop(\"ID\", axis=1)\n",
    "df.to_csv(\"cleaned_dataset.csv\", index=False)"
   ]
  },
  {
   "cell_type": "markdown",
   "id": "hawaiian-newport",
   "metadata": {},
   "source": [
    "## Machine Learning"
   ]
  },
  {
   "cell_type": "markdown",
   "id": "yellow-electron",
   "metadata": {},
   "source": [
    "Now all of the data has been cleaned sufficiently we can actually use some models to try and make predictions!"
   ]
  },
  {
   "cell_type": "code",
   "execution_count": 70,
   "id": "confidential-moscow",
   "metadata": {},
   "outputs": [
    {
     "name": "stdout",
     "output_type": "stream",
     "text": [
      "<class 'pandas.core.frame.DataFrame'>\n",
      "RangeIndex: 33401 entries, 0 to 33400\n",
      "Data columns (total 54 columns):\n",
      " #   Column                            Non-Null Count  Dtype  \n",
      "---  ------                            --------------  -----  \n",
      " 0   latitude                          33401 non-null  float64\n",
      " 1   longitude                         33401 non-null  float64\n",
      " 2   date_confirmation                 33401 non-null  int64  \n",
      " 3   has_chronic_disease               33401 non-null  bool   \n",
      " 4   has_travel_history                33401 non-null  bool   \n",
      " 5   province_bihar                    33401 non-null  int64  \n",
      " 6   province_delhi                    33401 non-null  int64  \n",
      " 7   province_gujarat                  33401 non-null  int64  \n",
      " 8   province_haryana                  33401 non-null  int64  \n",
      " 9   province_jammu and kashmir        33401 non-null  int64  \n",
      " 10  province_karnataka                33401 non-null  int64  \n",
      " 11  province_madhya pradesh           33401 non-null  int64  \n",
      " 12  province_maharashtra              33401 non-null  int64  \n",
      " 13  province_metro manila             33401 non-null  int64  \n",
      " 14  province_odisha                   33401 non-null  int64  \n",
      " 15  province_other                    33401 non-null  int64  \n",
      " 16  province_punjab                   33401 non-null  int64  \n",
      " 17  province_rajasthan                33401 non-null  int64  \n",
      " 18  province_state unassigned         33401 non-null  int64  \n",
      " 19  province_tamil nadu               33401 non-null  int64  \n",
      " 20  province_telangana                33401 non-null  int64  \n",
      " 21  province_uttar pradesh            33401 non-null  int64  \n",
      " 22  province_west bengal              33401 non-null  int64  \n",
      " 23  province_bihar.1                  33401 non-null  int64  \n",
      " 24  province_delhi.1                  33401 non-null  int64  \n",
      " 25  province_gujarat.1                33401 non-null  int64  \n",
      " 26  province_haryana.1                33401 non-null  int64  \n",
      " 27  province_jammu and kashmir.1      33401 non-null  int64  \n",
      " 28  province_karnataka.1              33401 non-null  int64  \n",
      " 29  province_madhya pradesh.1         33401 non-null  int64  \n",
      " 30  province_maharashtra.1            33401 non-null  int64  \n",
      " 31  province_metro manila.1           33401 non-null  int64  \n",
      " 32  province_odisha.1                 33401 non-null  int64  \n",
      " 33  province_other.1                  33401 non-null  int64  \n",
      " 34  province_punjab.1                 33401 non-null  int64  \n",
      " 35  province_rajasthan.1              33401 non-null  int64  \n",
      " 36  province_state unassigned.1       33401 non-null  int64  \n",
      " 37  province_tamil nadu.1             33401 non-null  int64  \n",
      " 38  province_telangana.1              33401 non-null  int64  \n",
      " 39  province_uttar pradesh.1          33401 non-null  int64  \n",
      " 40  province_west bengal.1            33401 non-null  int64  \n",
      " 41  source_experience.arcgis.com      33401 non-null  int64  \n",
      " 42  source_gujcovid19.gujarat.gov.in  33401 non-null  int64  \n",
      " 43  source_other                      33401 non-null  int64  \n",
      " 44  source_phdmah.maps.arcgis.com     33401 non-null  int64  \n",
      " 45  source_stopcorona.tn.gov.in       33401 non-null  int64  \n",
      " 46  source_t.me                       33401 non-null  int64  \n",
      " 47  source_twitter.com                33401 non-null  int64  \n",
      " 48  source_www.deshgujarat.com        33401 non-null  int64  \n",
      " 49  source_www.wbhealth.gov.in        33401 non-null  int64  \n",
      " 50  is_india                          33401 non-null  bool   \n",
      " 51  has_survived                      33401 non-null  bool   \n",
      " 52  is_male                           33401 non-null  bool   \n",
      " 53  age_category                      33401 non-null  int64  \n",
      "dtypes: bool(5), float64(2), int64(47)\n",
      "memory usage: 12.6 MB\n"
     ]
    }
   ],
   "source": [
    "df = pd.read_csv(\"cleaned_dataset.csv\", low_memory=False)\n",
    "df.info()"
   ]
  },
  {
   "cell_type": "markdown",
   "id": "excessive-defeat",
   "metadata": {},
   "source": [
    "Will need some metrics to judge the model on so lets create a function for that:"
   ]
  },
  {
   "cell_type": "code",
   "execution_count": 71,
   "id": "tender-involvement",
   "metadata": {},
   "outputs": [],
   "source": [
    "from sklearn.metrics import confusion_matrix, recall_score, precision_score, matthews_corrcoef, balanced_accuracy_score, f1_score, roc_auc_score\n",
    "\n",
    "def model_metrics(test_labels, model_predictions, ignore_auc=False):\n",
    "    cmatrix = confusion_matrix(test_labels, model_predictions)\n",
    "    tn, fp, fn, tp = cmatrix.ravel()\n",
    "\n",
    "    print(\"Test Samples\", len(test_labels))\n",
    "    print(\"True Positives\", tp)\n",
    "    print(\"False Positives\", fp)\n",
    "    print(\"True Negatives\", tn)\n",
    "    print(\"False Negatives\", fn)\n",
    "    print()\n",
    "\n",
    "    rs = recall_score(test_labels, model_predictions)\n",
    "    print(\"Recall\", rs)\n",
    "\n",
    "    ps = precision_score(test_labels, model_predictions)\n",
    "    print(\"Precision\", ps)\n",
    "\n",
    "    mcc = matthews_corrcoef(test_labels, model_predictions)\n",
    "    print(\"MCC\", mcc)\n",
    "\n",
    "    bas = balanced_accuracy_score(test_labels, model_predictions)\n",
    "    print(\"BAS\", bas)\n",
    "\n",
    "    f1 = f1_score(test_labels, model_predictions)\n",
    "    print(\"F1\", f1)\n",
    "    \n",
    "    print()\n",
    "    \n",
    "    tpr = tp / (tp + fn)\n",
    "    fpr = fp / (fp + tn)\n",
    "\n",
    "    ppv = tp / (tp + fp)\n",
    "    npv = tn / (tn + fn)\n",
    "\n",
    "    tnr = tn / (tn + fp)\n",
    "    fnr = fn / (tp + fn)\n",
    "    fdr = fp / (tp + fp)\n",
    "    \n",
    "    print(\"True Positive Rate (Sens / Recall)\", tpr)\n",
    "    print(\"False Positive Rate (Spec)\", fpr)\n",
    "    print(\"Positive Predictive Value (PPV / Precision)\", ppv)\n",
    "    print(\"Negative Predictive Value (NPV)\", npv)\n",
    "    print(\"True Negative Rate\", tnr)\n",
    "    print(\"False Negative Rate\", fnr)\n",
    "    print(\"False Discovery Rate\", fdr)\n",
    "    print()\n",
    "    \n",
    "    ber = 0.5 * (fnr + fpr)\n",
    "    utility = 1 - ber\n",
    "    \n",
    "    print(\"BER\", ber)\n",
    "    print(\"Utility\", utility)\n",
    "    print()\n",
    "    \n",
    "    if not ignore_auc:\n",
    "        auc = roc_auc_score(test_labels, model_predictions)\n",
    "        print(\"AUC\")"
   ]
  },
  {
   "cell_type": "markdown",
   "id": "infinite-branch",
   "metadata": {},
   "source": [
    "We will also want to see the ROC curve:"
   ]
  },
  {
   "cell_type": "code",
   "execution_count": 72,
   "id": "veterinary-governor",
   "metadata": {},
   "outputs": [],
   "source": [
    "import matplotlib as mpl\n",
    "import matplotlib.pyplot as plt\n",
    "from sklearn.metrics import plot_roc_curve\n",
    "\n",
    "%matplotlib inline"
   ]
  },
  {
   "cell_type": "markdown",
   "id": "documented-communications",
   "metadata": {},
   "source": [
    "We need to split the data into a train and a test set"
   ]
  },
  {
   "cell_type": "code",
   "execution_count": 73,
   "id": "instructional-microphone",
   "metadata": {},
   "outputs": [],
   "source": [
    "from sklearn.model_selection import train_test_split\n",
    "train, test = train_test_split(df, test_size=0.3, shuffle=True, random_state=1828)\n",
    "\n",
    "training_unlabelled = train.drop(\"has_survived\", axis=1)\n",
    "training_labels = train[\"has_survived\"].copy()\n",
    "\n",
    "test_unlabelled = test.drop(\"has_survived\", axis=1)\n",
    "test_labels = test[\"has_survived\"].copy()"
   ]
  },
  {
   "cell_type": "markdown",
   "id": "cutting-american",
   "metadata": {},
   "source": [
    "The data for most of these algorithms will need to be scaled:"
   ]
  },
  {
   "cell_type": "code",
   "execution_count": 74,
   "id": "professional-listening",
   "metadata": {},
   "outputs": [],
   "source": [
    "from sklearn.preprocessing import StandardScaler\n",
    "\n",
    "ss = StandardScaler()\n",
    "training_unlabelled = ss.fit_transform(training_unlabelled)\n",
    "test_unlabelled = ss.transform(test_unlabelled)"
   ]
  },
  {
   "cell_type": "markdown",
   "id": "weighted-material",
   "metadata": {},
   "source": [
    "Lets start with SVM"
   ]
  },
  {
   "cell_type": "code",
   "execution_count": 75,
   "id": "proprietary-conclusion",
   "metadata": {},
   "outputs": [],
   "source": [
    "from sklearn.model_selection import GridSearchCV\n",
    "from sklearn import svm\n",
    "\n",
    "# Took ~70 minutes on an i7-9700K@4.7GHz with 8 concurrent threads\n",
    "def svm_cross_validation_grid_search(training_unlabelled, training_labels):\n",
    "    cv_params = {\n",
    "        \"C\": [10, 20, 30, 100], #[0.01, 1] as well\n",
    "        \"gamma\": [0.001, 0.01, 0.1, 1],\n",
    "        \"class_weight\": [\"auto\", \"balanced\"]\n",
    "        # \"kernel\": [\"sigmoid\", \"rbf\", \"linear\"]\n",
    "    }\n",
    "    \n",
    "    gs = GridSearchCV(svm.SVC(), cv_params, refit=True, verbose=2, n_jobs=-1)\n",
    "    gs_result = gs.fit(training_unlabelled, training_labels)\n",
    "    \n",
    "    print(\"Best Estimator\")\n",
    "    print(gs_result.best_estimator_)\n",
    "    print()\n",
    "    \n",
    "    print(\"Best Score\")\n",
    "    print(gs_result.best_score_)\n",
    "    print()\n",
    "    \n",
    "    print(\"Best Params\")\n",
    "    print(gs_result.best_params_)\n",
    "    print()\n",
    "\n",
    "#svm_cross_validation_grid_search(training_unlabelled, training_labels)"
   ]
  },
  {
   "cell_type": "code",
   "execution_count": 76,
   "id": "established-crest",
   "metadata": {},
   "outputs": [
    {
     "name": "stdout",
     "output_type": "stream",
     "text": [
      "SVM C=10, gamma=1, class_weight=balanced\n",
      "Training model\n",
      "Trained model\n",
      "\n",
      "Predicting\n",
      "Predicted\n",
      "\n",
      "Train Score 0.9271599657827203\n",
      "Test Score 0.9167747729767488\n",
      "Overfit 0.0103851928059715\n",
      "\n",
      "Test Samples 10021\n",
      "True Positives 8906\n",
      "False Positives 106\n",
      "True Negatives 281\n",
      "False Negatives 728\n",
      "\n",
      "Recall 0.9244342952044842\n",
      "Precision 0.9882379050155349\n",
      "MCC 0.4165542963738067\n",
      "BAS 0.8252662432094773\n",
      "F1 0.955271908184061\n",
      "\n",
      "True Positive Rate (Sens / Recall) 0.9244342952044842\n",
      "False Positive Rate (Spec) 0.2739018087855297\n",
      "Positive Predictive Value (PPV / Precision) 0.9882379050155349\n",
      "Negative Predictive Value (NPV) 0.27849355797819625\n",
      "True Negative Rate 0.7260981912144703\n",
      "False Negative Rate 0.07556570479551589\n",
      "False Discovery Rate 0.011762094984465158\n",
      "\n",
      "BER 0.1747337567905228\n",
      "Utility 0.8252662432094772\n",
      "\n",
      "AUC\n"
     ]
    },
    {
     "data": {
      "image/png": "[encoded data removed]",
      "text/plain": [
       "<Figure size 432x288 with 1 Axes>"
      ]
     },
     "metadata": {
      "needs_background": "light"
     },
     "output_type": "display_data"
    }
   ],
   "source": [
    "from sklearn import svm\n",
    "\n",
    "def svm_model(training_unlabelled, training_labels, test_unlabelled, test_labels):\n",
    "    print(\"SVM C=10, gamma=1, class_weight=balanced\")\n",
    "    model = svm.SVC(class_weight=\"balanced\", C=10, gamma=1)\n",
    "    print(\"Training model\")\n",
    "    model.fit(training_unlabelled, training_labels)\n",
    "    print(\"Trained model\")\n",
    "    print()\n",
    "    \n",
    "    print(\"Predicting\")\n",
    "    predictions = model.predict(test_unlabelled)\n",
    "    print(\"Predicted\")\n",
    "    print()\n",
    "    \n",
    "    train_score = model.score(training_unlabelled, training_labels)\n",
    "    test_score = model.score(test_unlabelled, test_labels)\n",
    "    overfit = train_score - test_score\n",
    "    \n",
    "    print(\"Train Score\", train_score)\n",
    "    print(\"Test Score\", test_score)\n",
    "    print(\"Overfit\", overfit)\n",
    "    print()\n",
    "    \n",
    "    model_metrics(test_labels, predictions)\n",
    "    plot_roc_curve(model, test_unlabelled, test_labels, name=\"ROC Test Data\")\n",
    "    plt.show()\n",
    "\n",
    "svm_model(training_unlabelled, training_labels, test_unlabelled, test_labels)"
   ]
  },
  {
   "cell_type": "markdown",
   "id": "complete-short",
   "metadata": {},
   "source": [
    "Try a random forest"
   ]
  },
  {
   "cell_type": "code",
   "execution_count": 77,
   "id": "clear-spectrum",
   "metadata": {},
   "outputs": [],
   "source": [
    "from sklearn.model_selection import GridSearchCV\n",
    "from sklearn.ensemble import RandomForestClassifier\n",
    "\n",
    "# Took ~3 minutes on an i7-9700K@4.7GHz with 8 concurrent threads\n",
    "def rf_cross_validation_grid_search(training_unlabelled, training_labels):\n",
    "    cv_params = {\n",
    "        \"max_depth\": [20, 50, 100, 120, 150],\n",
    "        \"max_features\": [\"auto\", \"log2\", None],\n",
    "        \"n_estimators\": [100, 200, 300],\n",
    "        \"class_weight\": [\"balanced\", \"auto\"]\n",
    "    }\n",
    "    \n",
    "    gs = GridSearchCV(RandomForestClassifier(), cv_params, refit=True, verbose=2, n_jobs=-1)\n",
    "    gs_result = gs.fit(training_unlabelled, training_labels)\n",
    "    \n",
    "    print(\"Best Estimator\")\n",
    "    print(gs_result.best_estimator_)\n",
    "    print()\n",
    "    \n",
    "    print(\"Best Score\")\n",
    "    print(gs_result.best_score_)\n",
    "    print()\n",
    "    \n",
    "    print(\"Best Params\")\n",
    "    print(gs_result.best_params_)\n",
    "    print()\n",
    "\n",
    "#rf_cross_validation_grid_search(training_unlabelled, training_labels)"
   ]
  },
  {
   "cell_type": "code",
   "execution_count": 78,
   "id": "legislative-avenue",
   "metadata": {},
   "outputs": [
    {
     "name": "stdout",
     "output_type": "stream",
     "text": [
      "RFC class_weight='balanced', max_depth=20, max_features='auto', n_estimators=300\n",
      "Training model\n",
      "Trained model\n",
      "\n",
      "Predicting\n",
      "Predicted\n",
      "\n",
      "Train Score 0.9700171086398631\n",
      "Test Score 0.9464125336792735\n",
      "Overfit 0.023604574960589653\n",
      "\n",
      "Test Samples 10021\n",
      "True Positives 9287\n",
      "False Positives 190\n",
      "True Negatives 197\n",
      "False Negatives 347\n",
      "\n",
      "Recall 0.9639817313680714\n",
      "Precision 0.9799514614329429\n",
      "MCC 0.40226163343432003\n",
      "BAS 0.7365128295083252\n",
      "F1 0.9719009994244153\n",
      "\n",
      "True Positive Rate (Sens / Recall) 0.9639817313680714\n",
      "False Positive Rate (Spec) 0.4909560723514212\n",
      "Positive Predictive Value (PPV / Precision) 0.9799514614329429\n",
      "Negative Predictive Value (NPV) 0.36213235294117646\n",
      "True Negative Rate 0.5090439276485789\n",
      "False Negative Rate 0.036018268631928585\n",
      "False Discovery Rate 0.020048538567057086\n",
      "\n",
      "BER 0.2634871704916749\n",
      "Utility 0.7365128295083251\n",
      "\n",
      "AUC\n"
     ]
    },
    {
     "data": {
      "image/png": "[encoded data removed]",
      "text/plain": [
       "<Figure size 432x288 with 1 Axes>"
      ]
     },
     "metadata": {
      "needs_background": "light"
     },
     "output_type": "display_data"
    }
   ],
   "source": [
    "from sklearn.ensemble import RandomForestClassifier\n",
    "\n",
    "def rf_model(training_unlabelled, training_labels, test_unlabelled, test_labels):\n",
    "    print(\"RFC class_weight='balanced', max_depth=20, max_features='auto', n_estimators=300\")\n",
    "    model = RandomForestClassifier(class_weight='balanced', max_depth=20, max_features='auto', n_estimators=300)\n",
    "    print(\"Training model\")\n",
    "    model.fit(training_unlabelled, training_labels)\n",
    "    print(\"Trained model\")\n",
    "    print()\n",
    "    \n",
    "    print(\"Predicting\")\n",
    "    predictions = model.predict(test_unlabelled)\n",
    "    print(\"Predicted\")\n",
    "    print()\n",
    "    \n",
    "    train_score = model.score(training_unlabelled, training_labels)\n",
    "    test_score = model.score(test_unlabelled, test_labels)\n",
    "    overfit = train_score - test_score\n",
    "    \n",
    "    print(\"Train Score\", train_score)\n",
    "    print(\"Test Score\", test_score)\n",
    "    print(\"Overfit\", overfit)\n",
    "    print()\n",
    "    \n",
    "    model_metrics(test_labels, predictions)\n",
    "    plot_roc_curve(model, test_unlabelled, test_labels, name=\"ROC Test Data\")\n",
    "    plt.show()\n",
    "\n",
    "rf_model(training_unlabelled, training_labels, test_unlabelled, test_labels)"
   ]
  },
  {
   "cell_type": "markdown",
   "id": "novel-teddy",
   "metadata": {},
   "source": [
    "Naive Bayes - no hyperparameters so no need to tune"
   ]
  },
  {
   "cell_type": "code",
   "execution_count": 79,
   "id": "coral-afternoon",
   "metadata": {},
   "outputs": [
    {
     "name": "stdout",
     "output_type": "stream",
     "text": [
      "Naive Bayes: Gaussian\n",
      "Training model\n",
      "Trained model\n",
      "\n",
      "Predicting\n",
      "Predicted\n",
      "\n",
      "Train Score 0.15269461077844312\n",
      "Test Score 0.15437581079732562\n",
      "Overfit -0.0016812000188825005\n",
      "\n",
      "Test Samples 10021\n",
      "True Positives 1170\n",
      "False Positives 10\n",
      "True Negatives 377\n",
      "False Negatives 8464\n",
      "\n",
      "Recall 0.1214448827070791\n",
      "Precision 0.9915254237288136\n",
      "MCC 0.05715419557803857\n",
      "BAS 0.5478025447127126\n",
      "F1 0.2163861660810061\n",
      "\n",
      "True Positive Rate (Sens / Recall) 0.1214448827070791\n",
      "False Positive Rate (Spec) 0.025839793281653745\n",
      "Positive Predictive Value (PPV / Precision) 0.9915254237288136\n",
      "Negative Predictive Value (NPV) 0.04264223504128492\n",
      "True Negative Rate 0.9741602067183462\n",
      "False Negative Rate 0.8785551172929209\n",
      "False Discovery Rate 0.00847457627118644\n",
      "\n",
      "BER 0.45219745528728733\n",
      "Utility 0.5478025447127126\n",
      "\n",
      "AUC\n"
     ]
    },
    {
     "data": {
      "image/png": "[encoded data removed]",
      "text/plain": [
       "<Figure size 432x288 with 1 Axes>"
      ]
     },
     "metadata": {
      "needs_background": "light"
     },
     "output_type": "display_data"
    }
   ],
   "source": [
    "from sklearn.naive_bayes import GaussianNB\n",
    "\n",
    "# Performs really poorly\n",
    "def nb_model(training_unlabelled, training_labels, test_unlabelled, test_labels):\n",
    "    print(\"Naive Bayes: Gaussian\")\n",
    "    model = GaussianNB()\n",
    "    print(\"Training model\")\n",
    "    model.fit(training_unlabelled, training_labels)\n",
    "    print(\"Trained model\")\n",
    "    print()\n",
    "    \n",
    "    print(\"Predicting\")\n",
    "    predictions = model.predict(test_unlabelled)\n",
    "    print(\"Predicted\")\n",
    "    print()\n",
    "    \n",
    "    train_score = model.score(training_unlabelled, training_labels)\n",
    "    test_score = model.score(test_unlabelled, test_labels)\n",
    "    overfit = train_score - test_score\n",
    "    \n",
    "    print(\"Train Score\", train_score)\n",
    "    print(\"Test Score\", test_score)\n",
    "    print(\"Overfit\", overfit)\n",
    "    print()\n",
    "    \n",
    "    model_metrics(test_labels, predictions)\n",
    "    plot_roc_curve(model, test_unlabelled, test_labels, name=\"ROC Test Data\")\n",
    "    plt.show()\n",
    "\n",
    "nb_model(training_unlabelled, training_labels, test_unlabelled, test_labels)"
   ]
  },
  {
   "cell_type": "markdown",
   "id": "historic-scientist",
   "metadata": {},
   "source": [
    "Logistic Regression"
   ]
  },
  {
   "cell_type": "code",
   "execution_count": 80,
   "id": "activated-blair",
   "metadata": {},
   "outputs": [],
   "source": [
    "from sklearn.model_selection import GridSearchCV\n",
    "from sklearn.linear_model import LogisticRegression\n",
    "\n",
    "def lr_cross_validation_grid_search(training_unlabelled, training_labels):\n",
    "    cv_params = {\n",
    "        \"C\": [0.01, 0.1, 1, 10, 20],\n",
    "        \"penalty\": [\"l1\", \"l2\"],\n",
    "        \"max_iter\": [100, 200, 300, 400, 500],\n",
    "        \"class_weight\": [\"auto\", \"balanced\"]\n",
    "    }\n",
    "    \n",
    "    gs = GridSearchCV(LogisticRegression(class_weight=\"balanced\"), cv_params, refit=True, verbose=2, n_jobs=-1)\n",
    "    gs_result = gs.fit(training_unlabelled, training_labels)\n",
    "    \n",
    "    print(\"Best Estimator\")\n",
    "    print(gs_result.best_estimator_)\n",
    "    print()\n",
    "    \n",
    "    print(\"Best Score\")\n",
    "    print(gs_result.best_score_)\n",
    "    print()\n",
    "    \n",
    "    print(\"Best Params\")\n",
    "    print(gs_result.best_params_)\n",
    "    print()\n",
    "\n",
    "#lr_cross_validation_grid_search(training_unlabelled, training_labels)"
   ]
  },
  {
   "cell_type": "code",
   "execution_count": 81,
   "id": "embedded-communication",
   "metadata": {},
   "outputs": [
    {
     "name": "stdout",
     "output_type": "stream",
     "text": [
      "Logistic Regression; C=10, class_weight='auto', max_iter=400\n",
      "Training model\n",
      "Trained model\n",
      "\n",
      "Predicting\n",
      "Predicted\n",
      "\n",
      "Train Score 0.9686484174508126\n",
      "Test Score 0.9684662209360343\n",
      "Overfit 0.0001821965147783544\n",
      "\n",
      "Test Samples 10021\n",
      "True Positives 9585\n",
      "False Positives 267\n",
      "True Negatives 120\n",
      "False Negatives 49\n",
      "\n",
      "Recall 0.9949138467926095\n",
      "Precision 0.9728989037758831\n",
      "MCC 0.4563949128185796\n",
      "BAS 0.6524956830862272\n",
      "F1 0.9837832289849122\n",
      "\n",
      "True Positive Rate (Sens / Recall) 0.9949138467926095\n",
      "False Positive Rate (Spec) 0.689922480620155\n",
      "Positive Predictive Value (PPV / Precision) 0.9728989037758831\n",
      "Negative Predictive Value (NPV) 0.7100591715976331\n",
      "True Negative Rate 0.31007751937984496\n",
      "False Negative Rate 0.005086153207390492\n",
      "False Discovery Rate 0.02710109622411693\n",
      "\n",
      "BER 0.34750431691377276\n",
      "Utility 0.6524956830862272\n",
      "\n",
      "AUC\n"
     ]
    },
    {
     "data": {
      "image/png": "[encoded data removed]",
      "text/plain": [
       "<Figure size 432x288 with 1 Axes>"
      ]
     },
     "metadata": {
      "needs_background": "light"
     },
     "output_type": "display_data"
    }
   ],
   "source": [
    "from sklearn.linear_model import LogisticRegression\n",
    "\n",
    "def lr_model(training_unlabelled, training_labels, test_unlabelled, test_labels):\n",
    "    print(\"Logistic Regression; C=10, class_weight='auto', max_iter=400\")\n",
    "    model = LogisticRegression(C=10, class_weight='auto', max_iter=400)\n",
    "    print(\"Training model\")\n",
    "    model.fit(training_unlabelled, training_labels)\n",
    "    print(\"Trained model\")\n",
    "    print()\n",
    "    \n",
    "    print(\"Predicting\")\n",
    "    predictions = model.predict(test_unlabelled)\n",
    "    print(\"Predicted\")\n",
    "    print()\n",
    "    \n",
    "    train_score = model.score(training_unlabelled, training_labels)\n",
    "    test_score = model.score(test_unlabelled, test_labels)\n",
    "    overfit = train_score - test_score\n",
    "    \n",
    "    print(\"Train Score\", train_score)\n",
    "    print(\"Test Score\", test_score)\n",
    "    print(\"Overfit\", overfit)\n",
    "    print()\n",
    "    \n",
    "    model_metrics(test_labels, predictions)\n",
    "    plot_roc_curve(model, test_unlabelled, test_labels, name=\"ROC Test Data\")\n",
    "    plt.show()\n",
    "\n",
    "lr_model(training_unlabelled, training_labels, test_unlabelled, test_labels)"
   ]
  },
  {
   "cell_type": "markdown",
   "id": "functioning-independence",
   "metadata": {},
   "source": [
    "Neural Network"
   ]
  },
  {
   "cell_type": "code",
   "execution_count": 82,
   "id": "together-gossip",
   "metadata": {},
   "outputs": [],
   "source": [
    "from sklearn.model_selection import GridSearchCV\n",
    "from sklearn.neural_network import MLPClassifier\n",
    "\n",
    "def nn_cross_validation_grid_search(training_unlabelled, training_labels):\n",
    "    cv_params = {\n",
    "        'hidden_layer_sizes': [(5, 2), (50,50,50), (50,100,50), (100,)],\n",
    "        'activation': ['tanh', 'relu'],\n",
    "        'solver': ['sgd', 'adam', 'lbfgs'],\n",
    "        'alpha': [0.0001, 0.05],\n",
    "        'learning_rate': ['constant','adaptive'],\n",
    "        \"max_iter\": [100, 200, 300]\n",
    "    }\n",
    "    \n",
    "    gs = GridSearchCV(MLPClassifier(), cv_params, refit=True, verbose=2, n_jobs=-1)\n",
    "    gs_result = gs.fit(training_unlabelled, training_labels)\n",
    "    \n",
    "    print(\"Best Estimator\")\n",
    "    print(gs_result.best_estimator_)\n",
    "    print()\n",
    "    \n",
    "    print(\"Best Score\")\n",
    "    print(gs_result.best_score_)\n",
    "    print()\n",
    "    \n",
    "    print(\"Best Params\")\n",
    "    print(gs_result.best_params_)\n",
    "    print()\n",
    "\n",
    "#nn_cross_validation_grid_search(training_unlabelled, training_labels)"
   ]
  },
  {
   "cell_type": "code",
   "execution_count": 83,
   "id": "moderate-tragedy",
   "metadata": {},
   "outputs": [
    {
     "name": "stdout",
     "output_type": "stream",
     "text": [
      "MLPClassifier; activation='tanh', learning_rate='adaptive', max_iter=100\n",
      "Training model\n"
     ]
    },
    {
     "name": "stderr",
     "output_type": "stream",
     "text": [
      "C:\\Python38\\lib\\site-packages\\sklearn\\neural_network\\_multilayer_perceptron.py:582: ConvergenceWarning: Stochastic Optimizer: Maximum iterations (100) reached and the optimization hasn't converged yet.\n",
      "  warnings.warn(\n"
     ]
    },
    {
     "name": "stdout",
     "output_type": "stream",
     "text": [
      "Trained model\n",
      "\n",
      "Predicting\n",
      "Predicted\n",
      "\n",
      "Train Score 0.9719418306244654\n",
      "Test Score 0.9698632870970961\n",
      "Overfit 0.0020785435273692476\n",
      "\n",
      "Test Samples 10021\n",
      "True Positives 9563\n",
      "False Positives 231\n",
      "True Negatives 156\n",
      "False Negatives 71\n",
      "\n",
      "Recall 0.9926302678015362\n",
      "Precision 0.9764141311006739\n",
      "MCC 0.5124670475014421\n",
      "BAS 0.6978655214976673\n",
      "F1 0.9844554251595635\n",
      "\n",
      "True Positive Rate (Sens / Recall) 0.9926302678015362\n",
      "False Positive Rate (Spec) 0.5968992248062015\n",
      "Positive Predictive Value (PPV / Precision) 0.9764141311006739\n",
      "Negative Predictive Value (NPV) 0.6872246696035242\n",
      "True Negative Rate 0.40310077519379844\n",
      "False Negative Rate 0.007369732198463774\n",
      "False Discovery Rate 0.023585868899326116\n",
      "\n",
      "BER 0.30213447850233266\n",
      "Utility 0.6978655214976673\n",
      "\n",
      "AUC\n"
     ]
    },
    {
     "data": {
      "image/png": "[encoded data removed]",
      "text/plain": [
       "<Figure size 432x288 with 1 Axes>"
      ]
     },
     "metadata": {
      "needs_background": "light"
     },
     "output_type": "display_data"
    }
   ],
   "source": [
    "from sklearn.neural_network import MLPClassifier\n",
    "\n",
    "def nn_model(training_unlabelled, training_labels, test_unlabelled, test_labels):\n",
    "    print(\"MLPClassifier; activation='tanh', learning_rate='adaptive', max_iter=100\")\n",
    "    model = MLPClassifier(activation='tanh', learning_rate='adaptive', max_iter=100)\n",
    "    print(\"Training model\")\n",
    "    model.fit(training_unlabelled, training_labels)\n",
    "    print(\"Trained model\")\n",
    "    print()\n",
    "    \n",
    "    print(\"Predicting\")\n",
    "    predictions = model.predict(test_unlabelled)\n",
    "    print(\"Predicted\")\n",
    "    print()\n",
    "    \n",
    "    train_score = model.score(training_unlabelled, training_labels)\n",
    "    test_score = model.score(test_unlabelled, test_labels)\n",
    "    overfit = train_score - test_score\n",
    "    \n",
    "    print(\"Train Score\", train_score)\n",
    "    print(\"Test Score\", test_score)\n",
    "    print(\"Overfit\", overfit)\n",
    "    print()\n",
    "    \n",
    "    model_metrics(test_labels, predictions)\n",
    "    plot_roc_curve(model, test_unlabelled, test_labels, name=\"ROC Test Data\")\n",
    "    plt.show()\n",
    "\n",
    "nn_model(training_unlabelled, training_labels, test_unlabelled, test_labels)"
   ]
  },
  {
   "cell_type": "markdown",
   "id": "proprietary-century",
   "metadata": {},
   "source": [
    "Voting Classifier - Ensemble of the best ones we have already"
   ]
  },
  {
   "cell_type": "code",
   "execution_count": 84,
   "id": "junior-holder",
   "metadata": {},
   "outputs": [
    {
     "name": "stdout",
     "output_type": "stream",
     "text": [
      "VotingClassifier; NN, RF, LR, SVM using previously determined hyperparameters\n",
      "Training model\n"
     ]
    },
    {
     "name": "stderr",
     "output_type": "stream",
     "text": [
      "C:\\Python38\\lib\\site-packages\\sklearn\\neural_network\\_multilayer_perceptron.py:582: ConvergenceWarning: Stochastic Optimizer: Maximum iterations (100) reached and the optimization hasn't converged yet.\n",
      "  warnings.warn(\n"
     ]
    },
    {
     "name": "stdout",
     "output_type": "stream",
     "text": [
      "Trained model\n",
      "\n",
      "Predicting\n",
      "Predicted\n",
      "\n",
      "Train Score 0.9754491017964072\n",
      "Test Score 0.956790739447161\n",
      "Overfit 0.018658362349246227\n",
      "\n",
      "Test Samples 10021\n",
      "True Positives 9376\n",
      "False Positives 175\n",
      "True Negatives 212\n",
      "False Negatives 258\n",
      "\n",
      "Recall 0.9732198463774133\n",
      "Precision 0.9816773112763062\n",
      "MCC 0.47483501167241277\n",
      "BAS 0.7605117319742364\n",
      "F1 0.9774302840761012\n",
      "\n",
      "True Positive Rate (Sens / Recall) 0.9732198463774133\n",
      "False Positive Rate (Spec) 0.45219638242894056\n",
      "Positive Predictive Value (PPV / Precision) 0.9816773112763062\n",
      "Negative Predictive Value (NPV) 0.451063829787234\n",
      "True Negative Rate 0.5478036175710594\n",
      "False Negative Rate 0.02678015362258667\n",
      "False Discovery Rate 0.018322688723693855\n",
      "\n",
      "BER 0.23948826802576362\n",
      "Utility 0.7605117319742364\n",
      "\n"
     ]
    }
   ],
   "source": [
    "from sklearn.neural_network import MLPClassifier\n",
    "from sklearn.linear_model import LogisticRegression\n",
    "from sklearn.ensemble import RandomForestClassifier, VotingClassifier\n",
    "from sklearn import svm\n",
    "\n",
    "def vc_model(training_unlabelled, training_labels, test_unlabelled, test_labels):\n",
    "    print(\"VotingClassifier; NN, RF, LR, SVM using previously determined hyperparameters\")\n",
    "    \n",
    "    nn_model = MLPClassifier(activation='tanh', learning_rate='adaptive', max_iter=100)\n",
    "    rf_model = RandomForestClassifier(class_weight='balanced', max_depth=20, max_features='auto', n_estimators=300)\n",
    "    lr_model = LogisticRegression(C=10, class_weight='auto', max_iter=400)\n",
    "    sv_model = svm.SVC(class_weight=\"balanced\", C=10, gamma=1)\n",
    "    \n",
    "    model = VotingClassifier(estimators=[\n",
    "        (\"nn\", nn_model), (\"rf\", rf_model), (\"lr\", lr_model), (\"sv\", sv_model)\n",
    "    ])\n",
    "    print(\"Training model\")\n",
    "    \n",
    "    model.fit(training_unlabelled, training_labels)\n",
    "    print(\"Trained model\")\n",
    "    print()\n",
    "    \n",
    "    print(\"Predicting\")\n",
    "    predictions = model.predict(test_unlabelled)\n",
    "    print(\"Predicted\")\n",
    "    print()\n",
    "    \n",
    "    train_score = model.score(training_unlabelled, training_labels)\n",
    "    test_score = model.score(test_unlabelled, test_labels)\n",
    "    overfit = train_score - test_score\n",
    "    \n",
    "    print(\"Train Score\", train_score)\n",
    "    print(\"Test Score\", test_score)\n",
    "    print(\"Overfit\", overfit)\n",
    "    print()\n",
    "    \n",
    "    model_metrics(test_labels, predictions, ignore_auc=True)\n",
    "\n",
    "vc_model(training_unlabelled, training_labels, test_unlabelled, test_labels)"
   ]
  }
 ],
 "metadata": {
  "kernelspec": {
   "display_name": "Python 3",
   "language": "python",
   "name": "python3"
  },
  "language_info": {
   "codemirror_mode": {
    "name": "ipython",
    "version": 3
   },
   "file_extension": ".py",
   "mimetype": "text/x-python",
   "name": "python",
   "nbconvert_exporter": "python",
   "pygments_lexer": "ipython3",
   "version": "3.8.2"
  }
 },
 "nbformat": 4,
 "nbformat_minor": 5
}
